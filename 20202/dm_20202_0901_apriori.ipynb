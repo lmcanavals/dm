{
  "nbformat": 4,
  "nbformat_minor": 0,
  "metadata": {
    "colab": {
      "name": "dm 20202 0901 apriori.ipynb",
      "provenance": [],
      "authorship_tag": "ABX9TyNfgSyoTgvGmd3Dyjq0VkH4",
      "include_colab_link": true
    },
    "kernelspec": {
      "name": "python3",
      "display_name": "Python 3"
    }
  },
  "cells": [
    {
      "cell_type": "markdown",
      "metadata": {
        "id": "view-in-github",
        "colab_type": "text"
      },
      "source": [
        "<a href=\"https://colab.research.google.com/github/pcsilcan/dm/blob/master/20202/dm_20202_0901_apriori.ipynb\" target=\"_parent\"><img src=\"https://colab.research.google.com/assets/colab-badge.svg\" alt=\"Open In Colab\"/></a>"
      ]
    },
    {
      "cell_type": "code",
      "metadata": {
        "id": "RpRqVz6tom-6",
        "outputId": "d0d6bf39-2f58-499e-ad8f-34b9f7dfdcb6",
        "colab": {
          "base_uri": "https://localhost:8080/",
          "height": 54
        }
      },
      "source": [
        "T = [[c for c in 'MONKEY'],\n",
        "     [c for c in 'DONKEY'],\n",
        "     [c for c in 'MAKE'],\n",
        "     [c for c in 'MUCKY'],\n",
        "     [c for c in 'COOKIE']]\n",
        "\n",
        "print(T)"
      ],
      "execution_count": 1,
      "outputs": [
        {
          "output_type": "stream",
          "text": [
            "[['M', 'O', 'N', 'K', 'E', 'Y'], ['D', 'O', 'N', 'K', 'E', 'Y'], ['M', 'A', 'K', 'E'], ['M', 'U', 'C', 'K', 'Y'], ['C', 'O', 'O', 'K', 'I', 'E']]\n"
          ],
          "name": "stdout"
        }
      ]
    },
    {
      "cell_type": "code",
      "metadata": {
        "id": "6F9f5jbUpCzO",
        "outputId": "98f7ac10-0328-4268-b4d2-5435c38762f9",
        "colab": {
          "base_uri": "https://localhost:8080/",
          "height": 34
        }
      },
      "source": [
        "I = set()\n",
        "for Ti in T:\n",
        "    for i in Ti:\n",
        "        I.add(i)\n",
        "print(I)"
      ],
      "execution_count": 6,
      "outputs": [
        {
          "output_type": "stream",
          "text": [
            "{'E', 'A', 'K', 'I', 'N', 'C', 'D', 'M', 'Y', 'O', 'U'}\n"
          ],
          "name": "stdout"
        }
      ]
    },
    {
      "cell_type": "code",
      "metadata": {
        "id": "SOCgVFbiqU2n",
        "outputId": "eaeeb446-bd89-4572-e752-0eb8b0d20b61",
        "colab": {
          "base_uri": "https://localhost:8080/",
          "height": 34
        }
      },
      "source": [
        "def calcSup(itemset):\n",
        "    cont = 0\n",
        "    for Ti in T:\n",
        "        cont += 1 if set(itemset).issubset(Ti) else 0\n",
        "    return cont / len(T)\n",
        "\n",
        "calcSup(['M'])"
      ],
      "execution_count": 14,
      "outputs": [
        {
          "output_type": "execute_result",
          "data": {
            "text/plain": [
              "0.6"
            ]
          },
          "metadata": {
            "tags": []
          },
          "execution_count": 14
        }
      ]
    },
    {
      "cell_type": "code",
      "metadata": {
        "id": "J4J5Wqj4pLAY",
        "outputId": "0e0eafdc-d30f-44b4-e448-3dd42f94001c",
        "colab": {
          "base_uri": "https://localhost:8080/",
          "height": 67
        }
      },
      "source": [
        "import itertools as it\n",
        "\n",
        "minsup = 0.6\n",
        "Ck = [[i] for i in I]\n",
        "L = []\n",
        "k = 1\n",
        "while len(Ck) > 0:\n",
        "    L.append([])\n",
        "    for itemset in Ck:\n",
        "        if calcSup(itemset) >= minsup:\n",
        "            L[k-1].append(itemset)\n",
        "\n",
        "    temp = set()\n",
        "    for itemset in L[k-1]:\n",
        "        for i in itemset:\n",
        "            temp.add(i)\n",
        "    k += 1\n",
        "    Ck = [list(x) for x in it.combinations(list(temp), k)]\n",
        "\n",
        "for Li in L:\n",
        "    print(Li)"
      ],
      "execution_count": 19,
      "outputs": [
        {
          "output_type": "stream",
          "text": [
            "[['E'], ['K'], ['M'], ['Y'], ['O']]\n",
            "[['E', 'K'], ['E', 'O'], ['K', 'M'], ['K', 'Y'], ['K', 'O']]\n",
            "[['E', 'K', 'O']]\n"
          ],
          "name": "stdout"
        }
      ]
    },
    {
      "cell_type": "code",
      "metadata": {
        "id": "oBJkXQK5rKQg"
      },
      "source": [
        ""
      ],
      "execution_count": null,
      "outputs": []
    }
  ]
}