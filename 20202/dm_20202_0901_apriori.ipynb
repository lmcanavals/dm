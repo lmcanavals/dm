{
  "nbformat": 4,
  "nbformat_minor": 0,
  "metadata": {
    "colab": {
      "name": "dm 20202 0901 apriori.ipynb",
      "provenance": [],
      "authorship_tag": "ABX9TyPsTGnj57n5WQKpWKBJGAxk",
      "include_colab_link": true
    },
    "kernelspec": {
      "name": "python3",
      "display_name": "Python 3"
    }
  },
  "cells": [
    {
      "cell_type": "markdown",
      "metadata": {
        "id": "view-in-github",
        "colab_type": "text"
      },
      "source": [
        "<a href=\"https://colab.research.google.com/github/pcsilcan/dm/blob/master/20202/dm_20202_0901_apriori.ipynb\" target=\"_parent\"><img src=\"https://colab.research.google.com/assets/colab-badge.svg\" alt=\"Open In Colab\"/></a>"
      ]
    },
    {
      "cell_type": "code",
      "metadata": {
        "id": "RpRqVz6tom-6",
        "outputId": "6650d82b-7155-48ee-a4d4-8aef667ddcb6",
        "colab": {
          "base_uri": "https://localhost:8080/",
          "height": 54
        }
      },
      "source": [
        "T = [[c for c in 'MONKEY'],\n",
        "     [c for c in 'DONKEY'],\n",
        "     [c for c in 'MAKE'],\n",
        "     [c for c in 'MUCKY'],\n",
        "     [c for c in 'COOKIE']]\n",
        "\n",
        "print(T)"
      ],
      "execution_count": 3,
      "outputs": [
        {
          "output_type": "stream",
          "text": [
            "[['M', 'O', 'N', 'K', 'E', 'Y'], ['D', 'O', 'N', 'K', 'E', 'Y'], ['M', 'A', 'K', 'E'], ['M', 'U', 'C', 'K', 'Y'], ['C', 'O', 'O', 'K', 'I', 'E']]\n"
          ],
          "name": "stdout"
        }
      ]
    },
    {
      "cell_type": "code",
      "metadata": {
        "id": "6F9f5jbUpCzO",
        "outputId": "25762a8c-a8e8-4c1f-a5b5-a2e69e71b1e8",
        "colab": {
          "base_uri": "https://localhost:8080/",
          "height": 34
        }
      },
      "source": [
        "I = set()\n",
        "for Ti in T:\n",
        "    for i in Ti:\n",
        "        I.add(i)\n",
        "print(I)"
      ],
      "execution_count": 4,
      "outputs": [
        {
          "output_type": "stream",
          "text": [
            "{'K', 'M', 'I', 'U', 'O', 'E', 'D', 'N', 'Y', 'C', 'A'}\n"
          ],
          "name": "stdout"
        }
      ]
    },
    {
      "cell_type": "code",
      "metadata": {
        "id": "SOCgVFbiqU2n",
        "outputId": "0789bc0c-eae0-4ad7-b03a-f6988728d254",
        "colab": {
          "base_uri": "https://localhost:8080/",
          "height": 34
        }
      },
      "source": [
        "def calcSup(itemset):\n",
        "    cont = 0\n",
        "    for Ti in T:\n",
        "        cont += 1 if set(itemset).issubset(Ti) else 0\n",
        "    return cont / len(T)\n",
        "\n",
        "calcSup(['M'])"
      ],
      "execution_count": 5,
      "outputs": [
        {
          "output_type": "execute_result",
          "data": {
            "text/plain": [
              "0.6"
            ]
          },
          "metadata": {
            "tags": []
          },
          "execution_count": 5
        }
      ]
    },
    {
      "cell_type": "code",
      "metadata": {
        "id": "J4J5Wqj4pLAY",
        "outputId": "ce9abb65-b6a4-4c33-85c0-b41ea79eefda",
        "colab": {
          "base_uri": "https://localhost:8080/",
          "height": 67
        }
      },
      "source": [
        "import itertools as it\n",
        "\n",
        "minsup = 0.6\n",
        "Ck = [[i] for i in I]\n",
        "L = []\n",
        "k = 1\n",
        "while len(Ck) > 0:\n",
        "    L.append([])\n",
        "    for itemset in Ck:\n",
        "        if calcSup(itemset) >= minsup:\n",
        "            L[k-1].append(itemset)\n",
        "\n",
        "    temp = set()\n",
        "    for itemset in L[k-1]:\n",
        "        for i in itemset:\n",
        "            temp.add(i)\n",
        "    k += 1\n",
        "    Ck = [list(x) for x in it.combinations(list(temp), k)]\n",
        "\n",
        "for Li in L:\n",
        "    print(Li)"
      ],
      "execution_count": 6,
      "outputs": [
        {
          "output_type": "stream",
          "text": [
            "[['K'], ['M'], ['O'], ['E'], ['Y']]\n",
            "[['K', 'M'], ['K', 'O'], ['K', 'E'], ['K', 'Y'], ['O', 'E']]\n",
            "[['K', 'O', 'E']]\n"
          ],
          "name": "stdout"
        }
      ]
    },
    {
      "cell_type": "code",
      "metadata": {
        "id": "jlQc16ZOtpTR"
      },
      "source": [
        "def calcConf(X, Y):\n",
        "    return calcSup(X + Y) / calcSup(X)"
      ],
      "execution_count": 7,
      "outputs": []
    },
    {
      "cell_type": "code",
      "metadata": {
        "id": "TK-aNimlooq0",
        "outputId": "72348552-1460-4355-c1d8-dc192af899c2",
        "colab": {
          "base_uri": "https://localhost:8080/",
          "height": 151
        }
      },
      "source": [
        "minconf = 0.8\n",
        "for k in range(1, len(L)):\n",
        "    for itemset in L[k]:\n",
        "        for j in range(1, k + 1):\n",
        "            ante = [set(x) for x in it.combinations(itemset, j)]\n",
        "            setit = set(itemset)\n",
        "            for setX in ante:\n",
        "                X = list(setX)\n",
        "                Y = list(setit - setX)\n",
        "                if calcConf(X, Y) > minconf:\n",
        "                    print(X, \"->\", Y)"
      ],
      "execution_count": 8,
      "outputs": [
        {
          "output_type": "stream",
          "text": [
            "['M'] -> ['K']\n",
            "['O'] -> ['K']\n",
            "['E'] -> ['K']\n",
            "['Y'] -> ['K']\n",
            "['O'] -> ['E']\n",
            "['O'] -> ['K', 'E']\n",
            "['K', 'O'] -> ['E']\n",
            "['O', 'E'] -> ['K']\n"
          ],
          "name": "stdout"
        }
      ]
    },
    {
      "cell_type": "code",
      "metadata": {
        "id": "9klOJxqAsDTl"
      },
      "source": [
        ""
      ],
      "execution_count": null,
      "outputs": []
    }
  ]
}