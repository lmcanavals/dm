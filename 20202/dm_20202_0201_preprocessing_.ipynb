{
  "nbformat": 4,
  "nbformat_minor": 0,
  "metadata": {
    "colab": {
      "name": "dm 20202 0201 preprocessing .ipynb",
      "provenance": [],
      "authorship_tag": "ABX9TyNJskhSEMPU/p2A/DkNexNC",
      "include_colab_link": true
    },
    "kernelspec": {
      "name": "python3",
      "display_name": "Python 3"
    }
  },
  "cells": [
    {
      "cell_type": "markdown",
      "metadata": {
        "id": "view-in-github",
        "colab_type": "text"
      },
      "source": [
        "<a href=\"https://colab.research.google.com/github/pcsilcan/dm/blob/master/20202/dm_20202_0201_preprocessing_.ipynb\" target=\"_parent\"><img src=\"https://colab.research.google.com/assets/colab-badge.svg\" alt=\"Open In Colab\"/></a>"
      ]
    },
    {
      "cell_type": "markdown",
      "metadata": {
        "id": "ieEpAXCx-PnR",
        "colab_type": "text"
      },
      "source": [
        "# Scikit-learn\n",
        "## Standarization"
      ]
    },
    {
      "cell_type": "code",
      "metadata": {
        "id": "0DW59A6l9h5Y",
        "colab_type": "code",
        "colab": {}
      },
      "source": [
        "import numpy as np\n",
        "from sklearn import preprocessing"
      ],
      "execution_count": 1,
      "outputs": []
    },
    {
      "cell_type": "code",
      "metadata": {
        "id": "zLbcoara_8ls",
        "colab_type": "code",
        "colab": {
          "base_uri": "https://localhost:8080/",
          "height": 67
        },
        "outputId": "88eed82f-2841-42fe-e82f-ec40e2668d8f"
      },
      "source": [
        "X_train = np.array([[  1., -1.,  2. ],\n",
        "                    [  2.,  0.,  0. ],\n",
        "                    [  0.,  1., -1. ]])\n",
        "X_scaled = preprocessing.scale(X_train)\n",
        "\n",
        "print(X_scaled)"
      ],
      "execution_count": 2,
      "outputs": [
        {
          "output_type": "stream",
          "text": [
            "[[ 0.         -1.22474487  1.33630621]\n",
            " [ 1.22474487  0.         -0.26726124]\n",
            " [-1.22474487  1.22474487 -1.06904497]]\n"
          ],
          "name": "stdout"
        }
      ]
    },
    {
      "cell_type": "code",
      "metadata": {
        "id": "dYTpYd9EADfy",
        "colab_type": "code",
        "colab": {
          "base_uri": "https://localhost:8080/",
          "height": 50
        },
        "outputId": "028e6e82-f573-44b0-964e-97fe92a4e966"
      },
      "source": [
        "print(X_scaled.mean(axis=0))\n",
        "print(X_scaled.std(axis=0))"
      ],
      "execution_count": 4,
      "outputs": [
        {
          "output_type": "stream",
          "text": [
            "[0. 0. 0.]\n",
            "[1. 1. 1.]\n"
          ],
          "name": "stdout"
        }
      ]
    },
    {
      "cell_type": "code",
      "metadata": {
        "id": "HbXpBPXqAYHU",
        "colab_type": "code",
        "colab": {
          "base_uri": "https://localhost:8080/",
          "height": 34
        },
        "outputId": "d8a404b3-9942-49d7-e25a-e4cba2289c5e"
      },
      "source": [
        "scaler = preprocessing.StandardScaler().fit(X_train)\n",
        "scaler"
      ],
      "execution_count": 5,
      "outputs": [
        {
          "output_type": "execute_result",
          "data": {
            "text/plain": [
              "StandardScaler(copy=True, with_mean=True, with_std=True)"
            ]
          },
          "metadata": {
            "tags": []
          },
          "execution_count": 5
        }
      ]
    },
    {
      "cell_type": "code",
      "metadata": {
        "id": "TFhwQrBOBHG5",
        "colab_type": "code",
        "colab": {
          "base_uri": "https://localhost:8080/",
          "height": 50
        },
        "outputId": "bfd7d012-495b-4f47-c6f3-9b77e12faa56"
      },
      "source": [
        "print(scaler.mean_)\n",
        "print(scaler.scale_)"
      ],
      "execution_count": 6,
      "outputs": [
        {
          "output_type": "stream",
          "text": [
            "[1.         0.         0.33333333]\n",
            "[0.81649658 0.81649658 1.24721913]\n"
          ],
          "name": "stdout"
        }
      ]
    },
    {
      "cell_type": "code",
      "metadata": {
        "id": "MY2OOutsBRZ4",
        "colab_type": "code",
        "colab": {
          "base_uri": "https://localhost:8080/",
          "height": 67
        },
        "outputId": "c1411cde-8148-49d7-a0bd-6fd8d3a2b160"
      },
      "source": [
        "scaler.transform(X_train)"
      ],
      "execution_count": 7,
      "outputs": [
        {
          "output_type": "execute_result",
          "data": {
            "text/plain": [
              "array([[ 0.        , -1.22474487,  1.33630621],\n",
              "       [ 1.22474487,  0.        , -0.26726124],\n",
              "       [-1.22474487,  1.22474487, -1.06904497]])"
            ]
          },
          "metadata": {
            "tags": []
          },
          "execution_count": 7
        }
      ]
    },
    {
      "cell_type": "markdown",
      "metadata": {
        "id": "tdzLhjtXBtnA",
        "colab_type": "text"
      },
      "source": [
        "## Normalization"
      ]
    },
    {
      "cell_type": "code",
      "metadata": {
        "id": "NjDqGwKUBiGZ",
        "colab_type": "code",
        "colab": {
          "base_uri": "https://localhost:8080/",
          "height": 67
        },
        "outputId": "df2b636d-4133-49df-d989-e751f6cdde13"
      },
      "source": [
        "X = [[  1., -1.,  2. ],\n",
        "     [  2.,  0.,  0. ],\n",
        "     [  0.,  1., -1. ]]\n",
        "X_normalized = preprocessing.normalize(X, norm='l2')\n",
        "print(X_normalized)"
      ],
      "execution_count": 10,
      "outputs": [
        {
          "output_type": "stream",
          "text": [
            "[[ 0.40824829 -0.40824829  0.81649658]\n",
            " [ 1.          0.          0.        ]\n",
            " [ 0.          0.70710678 -0.70710678]]\n"
          ],
          "name": "stdout"
        }
      ]
    },
    {
      "cell_type": "code",
      "metadata": {
        "id": "vScy0aBPCM7i",
        "colab_type": "code",
        "colab": {
          "base_uri": "https://localhost:8080/",
          "height": 34
        },
        "outputId": "768c3dcf-cee9-425c-fd1d-d06e8511e411"
      },
      "source": [
        "normalizer = preprocessing.Normalizer().fit(X)\n",
        "print(normalizer)"
      ],
      "execution_count": 11,
      "outputs": [
        {
          "output_type": "stream",
          "text": [
            "Normalizer(copy=True, norm='l2')\n"
          ],
          "name": "stdout"
        }
      ]
    },
    {
      "cell_type": "code",
      "metadata": {
        "id": "7wmMPfcZCi-P",
        "colab_type": "code",
        "colab": {
          "base_uri": "https://localhost:8080/",
          "height": 67
        },
        "outputId": "8876fc23-5aa0-4d7f-a3f8-307d5533ea6a"
      },
      "source": [
        "normalizer.transform(X)"
      ],
      "execution_count": 12,
      "outputs": [
        {
          "output_type": "execute_result",
          "data": {
            "text/plain": [
              "array([[ 0.40824829, -0.40824829,  0.81649658],\n",
              "       [ 1.        ,  0.        ,  0.        ],\n",
              "       [ 0.        ,  0.70710678, -0.70710678]])"
            ]
          },
          "metadata": {
            "tags": []
          },
          "execution_count": 12
        }
      ]
    },
    {
      "cell_type": "markdown",
      "metadata": {
        "id": "83cX2X0YDQ_V",
        "colab_type": "text"
      },
      "source": [
        "## Missing values"
      ]
    },
    {
      "cell_type": "code",
      "metadata": {
        "id": "QqEHYwbICoQc",
        "colab_type": "code",
        "colab": {}
      },
      "source": [
        "from sklearn.impute import SimpleImputer"
      ],
      "execution_count": 17,
      "outputs": []
    },
    {
      "cell_type": "code",
      "metadata": {
        "id": "wDIolJyEDtSp",
        "colab_type": "code",
        "colab": {
          "base_uri": "https://localhost:8080/",
          "height": 50
        },
        "outputId": "6cc2fc3f-724f-4689-a5ce-9ff5a5eb8275"
      },
      "source": [
        "imp = SimpleImputer(missing_values=np.nan,\n",
        "                    strategy='mean')\n",
        "\n",
        "imp.fit([[1, 2], [np.nan, 3], [7, 6]])"
      ],
      "execution_count": 24,
      "outputs": [
        {
          "output_type": "execute_result",
          "data": {
            "text/plain": [
              "SimpleImputer(add_indicator=False, copy=True, fill_value=None,\n",
              "              missing_values=nan, strategy='mean', verbose=0)"
            ]
          },
          "metadata": {
            "tags": []
          },
          "execution_count": 24
        }
      ]
    },
    {
      "cell_type": "code",
      "metadata": {
        "id": "-gd6dKA1E9zS",
        "colab_type": "code",
        "colab": {
          "base_uri": "https://localhost:8080/",
          "height": 67
        },
        "outputId": "4e2855a8-c215-4c41-fd13-9af6b11af2ab"
      },
      "source": [
        "X = [[np.nan,       2],\n",
        "     [     6,  np.nan],\n",
        "     [     7,       6]]\n",
        "print(imp.transform(X))"
      ],
      "execution_count": 25,
      "outputs": [
        {
          "output_type": "stream",
          "text": [
            "[[4.         2.        ]\n",
            " [6.         3.66666667]\n",
            " [7.         6.        ]]\n"
          ],
          "name": "stdout"
        }
      ]
    },
    {
      "cell_type": "code",
      "metadata": {
        "id": "xuhWfuxIFueM",
        "colab_type": "code",
        "colab": {}
      },
      "source": [
        "import scipy.sparse as sp"
      ],
      "execution_count": 27,
      "outputs": []
    },
    {
      "cell_type": "code",
      "metadata": {
        "id": "N9IyOtdQHDoL",
        "colab_type": "code",
        "colab": {
          "base_uri": "https://localhost:8080/",
          "height": 101
        },
        "outputId": "cddbe8dd-ba8c-4230-8dbe-779f2b999059"
      },
      "source": [
        "X = sp.csc_matrix([[1, 2], [0, 3], [7, 6]])\n",
        "print(X)"
      ],
      "execution_count": 28,
      "outputs": [
        {
          "output_type": "stream",
          "text": [
            "  (0, 0)\t1\n",
            "  (2, 0)\t7\n",
            "  (0, 1)\t2\n",
            "  (1, 1)\t3\n",
            "  (2, 1)\t6\n"
          ],
          "name": "stdout"
        }
      ]
    },
    {
      "cell_type": "code",
      "metadata": {
        "id": "DMn07wpuHF9n",
        "colab_type": "code",
        "colab": {
          "base_uri": "https://localhost:8080/",
          "height": 50
        },
        "outputId": "a0cd1db6-556e-46ae-fdbe-cb34324c4ffd"
      },
      "source": [
        "imp = SimpleImputer(missing_values=np.nan, strategy='mean')\n",
        "imp.fit(X)"
      ],
      "execution_count": 30,
      "outputs": [
        {
          "output_type": "execute_result",
          "data": {
            "text/plain": [
              "SimpleImputer(add_indicator=False, copy=True, fill_value=None,\n",
              "              missing_values=nan, strategy='mean', verbose=0)"
            ]
          },
          "metadata": {
            "tags": []
          },
          "execution_count": 30
        }
      ]
    },
    {
      "cell_type": "code",
      "metadata": {
        "id": "892hhXGtIl3m",
        "colab_type": "code",
        "colab": {}
      },
      "source": [
        ""
      ],
      "execution_count": null,
      "outputs": []
    },
    {
      "cell_type": "code",
      "metadata": {
        "id": "7466hr9bHY_y",
        "colab_type": "code",
        "colab": {
          "base_uri": "https://localhost:8080/",
          "height": 151
        },
        "outputId": "6658ebfd-339e-4b0b-9c0d-2d7e7b48338c"
      },
      "source": [
        "X_test = sp.csc_matrix([[0, 2], [6, 0], [7, 6]])\n",
        "print(X_test)\n",
        "print(imp.transform(X_test))"
      ],
      "execution_count": 32,
      "outputs": [
        {
          "output_type": "stream",
          "text": [
            "  (1, 0)\t6\n",
            "  (2, 0)\t7\n",
            "  (0, 1)\t2\n",
            "  (2, 1)\t6\n",
            "  (1, 0)\t6.0\n",
            "  (2, 0)\t7.0\n",
            "  (0, 1)\t2.0\n",
            "  (2, 1)\t6.0\n"
          ],
          "name": "stdout"
        }
      ]
    },
    {
      "cell_type": "code",
      "metadata": {
        "id": "F8uZ3Ws7HptG",
        "colab_type": "code",
        "colab": {}
      },
      "source": [
        ""
      ],
      "execution_count": null,
      "outputs": []
    }
  ]
}