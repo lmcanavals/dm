{
  "nbformat": 4,
  "nbformat_minor": 0,
  "metadata": {
    "colab": {
      "name": "dm 20202 101 eclat.ipynb",
      "provenance": [],
      "authorship_tag": "ABX9TyO48+QOTi7gKQa0GU6iJRmX",
      "include_colab_link": true
    },
    "kernelspec": {
      "name": "python3",
      "display_name": "Python 3"
    }
  },
  "cells": [
    {
      "cell_type": "markdown",
      "metadata": {
        "id": "view-in-github",
        "colab_type": "text"
      },
      "source": [
        "<a href=\"https://colab.research.google.com/github/pcsilcan/dm/blob/master/20202/dm_20202_101_eclat.ipynb\" target=\"_parent\"><img src=\"https://colab.research.google.com/assets/colab-badge.svg\" alt=\"Open In Colab\"/></a>"
      ]
    },
    {
      "cell_type": "markdown",
      "metadata": {
        "id": "pdr-cnoRdLXB"
      },
      "source": [
        "## Instalando fim\n",
        "Si `pip install fim` no funciona, intente lo sugerido en https://borgelt.net/pyfim.html\n",
        "\n",
        "A continuación el código para instalar en gogle colab."
      ]
    },
    {
      "cell_type": "code",
      "metadata": {
        "id": "iTEDUNr7aZYD",
        "outputId": "d8172424-8e7f-4e6d-8738-fc86f5d89dde",
        "colab": {
          "base_uri": "https://localhost:8080/",
          "height": 109
        }
      },
      "source": [
        "%%script bash\n",
        "curl -O https://borgelt.net/bin/py3/fim.so\n",
        "sudo ln -sf \"$(pwd)/fim.so\" /usr/local/lib/python3.6/dist-packages/"
      ],
      "execution_count": 1,
      "outputs": [
        {
          "output_type": "stream",
          "text": [
            "  % Total    % Received % Xferd  Average Speed   Time    Time     Time  Current\n",
            "                                 Dload  Upload   Total   Spent    Left  Speed\n",
            "\r  0     0    0     0    0     0      0      0 --:--:-- --:--:-- --:--:--     0\r  0     0    0     0    0     0      0      0 --:--:-- --:--:-- --:--:--     0\r  0     0    0     0    0     0      0      0 --:--:--  0:00:01 --:--:--     0\r 12  756k   12 98268    0     0  47426      0  0:00:16  0:00:02  0:00:14 47403\r100  756k  100  756k    0     0   265k      0  0:00:02  0:00:02 --:--:--  265k\n",
            "ln: failed to create symbolic link '/usr/local/lib/python3.6/dist-packages/fim.so': File exists\n"
          ],
          "name": "stderr"
        }
      ]
    },
    {
      "cell_type": "code",
      "metadata": {
        "id": "8gkeHYd-amHY"
      },
      "source": [
        "from fim import *\n",
        "import seaborn as sns\n",
        "import matplotlib.pyplot as plt\n",
        "import numpy as np\n",
        "import time\n",
        "import pandas as pd"
      ],
      "execution_count": 2,
      "outputs": []
    },
    {
      "cell_type": "code",
      "metadata": {
        "id": "--zKYDGucKLn",
        "outputId": "585bfacb-bcc2-42c8-e530-8a507fd42379",
        "colab": {
          "base_uri": "https://localhost:8080/",
          "height": 1000
        }
      },
      "source": [
        "help(eclat)"
      ],
      "execution_count": 3,
      "outputs": [
        {
          "output_type": "stream",
          "text": [
            "Help on built-in function eclat in module fim:\n",
            "\n",
            "eclat(...)\n",
            "    eclat (tracts, target='s', supp=10, zmin=1, zmax=None, report='a',\n",
            "           eval='x', agg='x', thresh=10, prune=None, algo='a', mode='',\n",
            "           border=None)\n",
            "    Find frequent item sets with the Eclat algorithm.\n",
            "    tracts  transaction database to mine (mandatory)\n",
            "            The database must be an iterable of transactions;\n",
            "            each transaction must be an iterable of items;\n",
            "            each item must be a hashable object.\n",
            "            If the database is a dictionary, the transactions are\n",
            "            the keys, the values their (integer) multiplicities.\n",
            "    target  type of frequent item sets to find     (default: s)\n",
            "            s/a   sets/all   all     frequent item sets\n",
            "            c     closed     closed  frequent item sets\n",
            "            m     maximal    maximal frequent item sets\n",
            "            g     gens       generators\n",
            "            r     rules      association rules\n",
            "    supp    minimum support of an item set         (default: 10)\n",
            "            (positive: percentage, negative: absolute number)\n",
            "    conf    minimum confidence of an assoc. rule   (default: 80%)\n",
            "    zmin    minimum number of items per item set   (default: 1)\n",
            "    zmax    maximum number of items per item set   (default: no limit)\n",
            "    report  values to report with an item set      (default: a)\n",
            "            a     absolute item set support (number of transactions)\n",
            "            s     relative item set support as a fraction\n",
            "            S     relative item set support as a percentage\n",
            "            e     value of item set evaluation measure\n",
            "            E     value of item set evaluation measure as a percentage\n",
            "            (     combine values in a tuple (must be first character)\n",
            "            [     combine values in a list  (must be first character)\n",
            "            #     pattern spectrum as a dictionary  (no patterns)\n",
            "            =     pattern spectrum as a list        (no patterns)\n",
            "            |     pattern spectrum as three columns (no patterns)\n",
            "            for target 'r' (association rules) also available:\n",
            "            b     absolute body set  support (number of transactions)\n",
            "            x     relative body set  support as a fraction\n",
            "            X     relative body set  support as a percentage\n",
            "            h     absolute head item support (number of transactions)\n",
            "            y     relative head item support as a fraction\n",
            "            Y     relative head item support as a percentage\n",
            "            c     rule confidence as a fraction\n",
            "            C     rule confidence as a percentage\n",
            "            l     lift value of a rule (confidence/prior)\n",
            "            L     lift value of a rule as a percentage\n",
            "            Q     support of the empty set (total number of transactions)\n",
            "    eval    measure for item set evaluation        (default: x)\n",
            "            x     none       no measure / zero (default)\n",
            "            b     ldratio    binary logarithm of support quotient       (+)\n",
            "            c     conf       rule confidence                            (+)\n",
            "            d     confdiff   absolute confidence difference to prior    (+)\n",
            "            l     lift       lift value (confidence divided by prior)   (+)\n",
            "            a     liftdiff   absolute difference of lift value to 1     (+)\n",
            "            q     liftquot   difference of lift quotient to 1           (+)\n",
            "            v     cvct       conviction (inverse lift negated head)     (+)\n",
            "            e     cvctdiff   absolute difference of conviction to 1     (+)\n",
            "            r     cvctquot   difference of conviction quotient to 1     (+)\n",
            "            k     cprob      conditional probability ratio              (+)\n",
            "            j     import     importance (binary log. of prob. ratio)    (+)\n",
            "            z     cert       certainty factor (relative conf. change)   (+)\n",
            "            n     chi2       normalized chi^2 measure                   (+)\n",
            "            p     chi2pval   p-value f/ (unnormalized) chi^2 measure    (-)\n",
            "            y     yates      normalized chi^2 with Yates' correction    (+)\n",
            "            t     yatespval  p-value f/ Yates-corrected chi^2 measure   (-)\n",
            "            i     info       information difference to prior            (+)\n",
            "            g     infopval   p-value f/ G statistic/info. difference    (-)\n",
            "            f     fetprob    Fisher's exact test (table probability)    (-)\n",
            "            h     fetchi2    Fisher's exact test (chi^2 measure)        (-)\n",
            "            m     fetinfo    Fisher's exact test (mutual information)   (-)\n",
            "            s     fetsupp    Fisher's exact test (support)              (-)\n",
            "            Measures marked with (+) must meet or exceed the threshold,\n",
            "            measures marked with (-) must not exceed the threshold\n",
            "            in order for the item set to be reported.\n",
            "    agg     evaluation measure aggregation mode    (default: x)\n",
            "            x     none       no aggregation (use first value)\n",
            "            m     min        minimum of individual measure values\n",
            "            n     max        maximum of individual measure values\n",
            "            a     avg        average of individual measure values\n",
            "    thresh  threshold for evaluation measure       (default: 10%)\n",
            "    prune   min. size for evaluation filtering     (default: no pruning)\n",
            "            = 0   backward filtering       (no subset check)\n",
            "            < 0   weak   forward filtering (one subset  must qualify)\n",
            "            > 0   strong forward filtering (all subsets must qualify)\n",
            "    algo    algorithm variant to use               (default: a)\n",
            "            a     auto       automatic choice based on data properties\n",
            "            e     basic      transaction id lists intersection (basic)\n",
            "            i     tids       transaction id lists intersection (improved)\n",
            "            b     bits       transaction id lists as bit vectors\n",
            "            t     table      item occurrence table (standard)\n",
            "            s     simple     item occurrence table (simplified)\n",
            "            r     ranges     transaction id range lists intersection\n",
            "            o     occdlv     occurrence deliver from transaction lists\n",
            "            d     diff       transaction id difference sets (diffsets)\n",
            "    mode    operation mode indicators/flags        (default: None)\n",
            "            l     do not use a 16-items machine\n",
            "            x     do not use perfect extension pruning\n",
            "            i     do not sort items w.r.t. conditional support\n",
            "            u     do not head union tail (hut) pruning (maximal)\n",
            "            y     check extensions for closed/maximal item sets\n",
            "            z     invalidate evaluation below expected support\n",
            "            o     use original rule support definition (body & head)\n",
            "    border  support border for filtering item sets (default: None)\n",
            "            Must be a list or tuple of (absolute) minimum support values\n",
            "            per item set size (by which the list/tuple is indexed).\n",
            "    appear  dictionary mapping items to item appearance indicators,\n",
            "            with the key None referring to the default item appearance.\n",
            "            (If None does not occur as a key or no dictionary is given,\n",
            "            the default item appearance indicator is 'both'.)\n",
            "            This parameter is only used if the target type is rules.\n",
            "            * item may not appear anywhere in a rule:\n",
            "              '-', 'n', 'none', 'neither', 'ignore'\n",
            "            * item may appear only in rule body/antecedent:\n",
            "              'i', 'in', 'inp', 'input', 'b', 'body',\n",
            "              'a', 'ante', 'antecedent'\n",
            "            * item may appear only in rule head/consequent:\n",
            "              'o', 'out',      'output', 'h', 'head',\n",
            "              'c', 'cons', 'consequent'\n",
            "            * item may appear anywhere in a rule:\n",
            "              'io', 'i&o', 'inout', 'in&out', 'bh', 'b&h', 'both'\n",
            "    returns if report is not in ['#','=','|']:\n",
            "              if the target is association rules:\n",
            "                a list of rules (i.e. tuples with two or more elements),\n",
            "                each consisting of a head/consequent item, a tuple with\n",
            "                a body/antecedent item set, and the values selected by\n",
            "                the parameter 'report', which may be combined into a\n",
            "                tuple or a list if report[0] is '(' or '[', respectively.\n",
            "              if the target is a type of item sets:\n",
            "                a list of patterns (i.e. tuples with one or more elements),\n",
            "                each consisting of a tuple with a found frequent item set\n",
            "                and the values selected by the parameter 'report', which\n",
            "                may be combined into a tuple or list if report[0] is '('\n",
            "                or '[', respectively\n",
            "            if report in ['#','=','|']:\n",
            "              a pattern spectrum as a dictionary mapping pattern sizes\n",
            "              to the corresponding occurrence support ranges, as a list\n",
            "              of triplets (size, min. support, max. support) or as three\n",
            "              columns for sizes and minimum and maximum support values\n",
            "\n"
          ],
          "name": "stdout"
        }
      ]
    },
    {
      "cell_type": "code",
      "metadata": {
        "id": "FdL9Zbjwcdks"
      },
      "source": [
        "def loadDataset(filename):\n",
        "    with open(filename, 'r') as file:\n",
        "        dataset = []\n",
        "        #dataset1 = []\n",
        "        for x in file:\n",
        "            if \"#\" not in x:\n",
        "                items = x.split()\n",
        "                dataset.append([int(j) for j in items[1:]])\n",
        "                # if items[0] == '1':\n",
        "                #   dataset1.append([int(j) for j in items[1:]])\n",
        "\n",
        "    return dataset #, dataset1"
      ],
      "execution_count": 4,
      "outputs": []
    },
    {
      "cell_type": "code",
      "metadata": {
        "id": "49PlA-ZJfapw"
      },
      "source": [
        "repo = \"https://raw.githubusercontent.com/pcsilcan/dm/master/20202/data/\"\n",
        "filename = \"zoo.bin\""
      ],
      "execution_count": 5,
      "outputs": []
    },
    {
      "cell_type": "code",
      "metadata": {
        "id": "i7qkwUaSfKoD",
        "outputId": "3f30850c-2461-4f2f-cc15-75856230a2a5",
        "colab": {
          "base_uri": "https://localhost:8080/",
          "height": 71
        }
      },
      "source": [
        "!curl -O \"$repo$filename\""
      ],
      "execution_count": 6,
      "outputs": [
        {
          "output_type": "stream",
          "text": [
            "  % Total    % Received % Xferd  Average Speed   Time    Time     Time  Current\n",
            "                                 Dload  Upload   Total   Spent    Left  Speed\n",
            "\r  0     0    0     0    0     0      0      0 --:--:-- --:--:-- --:--:--     0\r100  5017  100  5017    0     0  74880      0 --:--:-- --:--:-- --:--:-- 74880\n"
          ],
          "name": "stdout"
        }
      ]
    },
    {
      "cell_type": "code",
      "metadata": {
        "id": "0AdKrt39fueg"
      },
      "source": [
        "d = loadDataset(filename)"
      ],
      "execution_count": 7,
      "outputs": []
    },
    {
      "cell_type": "markdown",
      "metadata": {
        "id": "mDP9e0MHf6LP"
      },
      "source": [
        "# All Patterns"
      ]
    },
    {
      "cell_type": "code",
      "metadata": {
        "id": "Xy5PnbSnf4Zp"
      },
      "source": [
        "def allPatterns(d, minsupp):\n",
        "    s = eclat(d, target='a', supp=minsupp)\n",
        "    if len(s) > 0:\n",
        "        df = pd.DataFrame(s)\n",
        "        df.columns = [\"Patterns\", \"Freq\"]\n",
        "        return df, True\n",
        "    return _, False"
      ],
      "execution_count": 8,
      "outputs": []
    },
    {
      "cell_type": "code",
      "metadata": {
        "id": "XJ0yk2jHgLx7"
      },
      "source": [
        "def plotAllPatterns(filename):\n",
        "    numberdata = []\n",
        "    d = loadDataset(filename)\n",
        "    k = len(d) // 20\n",
        "    for i in range(k, len(d), k):\n",
        "        start = time.time()\n",
        "        t, r = allPatterns(d, i)\n",
        "        end = time.time()\n",
        "        if r:\n",
        "            numberdata.append((i, t.shape[0], end - start))\n",
        "    df = pd.DataFrame(numberdata)\n",
        "    df.columns = [\"Threshold\", \"AllItemsets\", \"TimeAllItemsets\"]\n",
        "    fig, ax = plt.subplots(1, 2)\n",
        "    sns.lineplot(x=\"Threshold\", y=\"AllItemsets\", ax=ax[0], data=df)\n",
        "    sns.lineplot(x=\"Threshold\", y=\"TimeAllItemsets\", ax=ax[1], data=df)\n",
        "    fig.show()\n",
        "\n",
        "    return df"
      ],
      "execution_count": 9,
      "outputs": []
    },
    {
      "cell_type": "code",
      "metadata": {
        "id": "FmNneq_EiM3p",
        "outputId": "c0ba8c50-6b98-4f26-ec5b-2bc266861b5c",
        "colab": {
          "base_uri": "https://localhost:8080/",
          "height": 279
        }
      },
      "source": [
        "dfAFI = plotAllPatterns(filename)"
      ],
      "execution_count": 10,
      "outputs": [
        {
          "output_type": "display_data",
          "data": {
            "image/png": "[encoded data removed]",
            "text/plain": [
              "<Figure size 432x288 with 2 Axes>"
            ]
          },
          "metadata": {
            "tags": [],
            "needs_background": "light"
          }
        }
      ]
    },
    {
      "cell_type": "markdown",
      "metadata": {
        "id": "wPZaeicxoocQ"
      },
      "source": [
        "# Closed Patterns"
      ]
    },
    {
      "cell_type": "code",
      "metadata": {
        "id": "n5tWht2JiUu-"
      },
      "source": [
        "def closedPatterns(d, minsupp):\n",
        "    s = eclat(d, target='c', supp=minsupp)\n",
        "    if len(s) > 0:\n",
        "        df = pd.DataFrame(s)\n",
        "        df.columns = [\"Pattern\", \"Freq\"]\n",
        "        return df, True\n",
        "    return _, False"
      ],
      "execution_count": 11,
      "outputs": []
    },
    {
      "cell_type": "code",
      "metadata": {
        "id": "bGmmXQzyo_HU"
      },
      "source": [
        "def plotClosedPatterns(filename):\n",
        "    numberdata = []\n",
        "    d = loadDataset(filename)\n",
        "    k = len(d) // 20\n",
        "    for i in range(k, len(d), k):\n",
        "        start = time.time()\n",
        "        t, r = closedPatterns(d, i)\n",
        "        end = time.time()\n",
        "        if r:\n",
        "            numberdata.append((i, t.shape[0], end - start))\n",
        "    df = pd.DataFrame(numberdata)\n",
        "    df.columns = [\"Threshold\", \"ClosedItemsets\", \"TimeClosedItemsets\"]\n",
        "    fig, ax = plt.subplots(1, 2)\n",
        "    sns.lineplot(x=\"Threshold\", y=\"ClosedItemsets\", ax=ax[0], data=df)\n",
        "    sns.lineplot(x=\"Threshold\", y=\"TimeClosedItemsets\", ax=ax[1], data=df)\n",
        "    fig.show()\n",
        "\n",
        "    return df"
      ],
      "execution_count": 12,
      "outputs": []
    },
    {
      "cell_type": "code",
      "metadata": {
        "id": "EkfoQYfKpioq",
        "outputId": "e5dfc292-bdb7-42ca-9227-077d9b440f9d",
        "colab": {
          "base_uri": "https://localhost:8080/",
          "height": 279
        }
      },
      "source": [
        "dfCFI = plotClosedPatterns(filename)"
      ],
      "execution_count": 13,
      "outputs": [
        {
          "output_type": "display_data",
          "data": {
            "image/png": "[encoded data removed]",
            "text/plain": [
              "<Figure size 432x288 with 2 Axes>"
            ]
          },
          "metadata": {
            "tags": [],
            "needs_background": "light"
          }
        }
      ]
    },
    {
      "cell_type": "markdown",
      "metadata": {
        "id": "Bu1jFZjFqTfz"
      },
      "source": [
        "# Maximal Itemsets"
      ]
    },
    {
      "cell_type": "code",
      "metadata": {
        "id": "hmQB1o8uqTf1"
      },
      "source": [
        "def maximalPatterns(d, minsupp):\n",
        "    s = eclat(d, target='m', supp=minsupp)\n",
        "    if len(s) > 0:\n",
        "        df = pd.DataFrame(s)\n",
        "        df.columns = [\"Pattern\", \"Freq\"]\n",
        "        return df, True\n",
        "    return _, False"
      ],
      "execution_count": 14,
      "outputs": []
    },
    {
      "cell_type": "code",
      "metadata": {
        "id": "9GzIsiA0qTf5"
      },
      "source": [
        "def plotMaximalPatterns(filename):\n",
        "    numberdata = []\n",
        "    d = loadDataset(filename)\n",
        "    k = len(d) // 20\n",
        "    for i in range(k, len(d), k):\n",
        "        start = time.time()\n",
        "        t, r = maximalPatterns(d, i)\n",
        "        end = time.time()\n",
        "        if r:\n",
        "            numberdata.append((i, t.shape[0], end - start))\n",
        "    df = pd.DataFrame(numberdata)\n",
        "    df.columns = [\"Threshold\", \"MaximalItemsets\", \"TimeMaximalItemsets\"]\n",
        "    fig, ax = plt.subplots(1, 2)\n",
        "    sns.lineplot(x=\"Threshold\", y=\"MaximalItemsets\", ax=ax[0], data=df)\n",
        "    sns.lineplot(x=\"Threshold\", y=\"TimeMaximalItemsets\", ax=ax[1], data=df)\n",
        "    fig.show()\n",
        "\n",
        "    return df"
      ],
      "execution_count": 15,
      "outputs": []
    },
    {
      "cell_type": "code",
      "metadata": {
        "id": "BGTbKhamqTf7",
        "outputId": "c4ffcb43-4804-4585-a8c1-c7de1b026c24",
        "colab": {
          "base_uri": "https://localhost:8080/",
          "height": 279
        }
      },
      "source": [
        "dfMFI = plotMaximalPatterns(filename)"
      ],
      "execution_count": 16,
      "outputs": [
        {
          "output_type": "display_data",
          "data": {
            "image/png": "[encoded data removed]",
            "text/plain": [
              "<Figure size 432x288 with 2 Axes>"
            ]
          },
          "metadata": {
            "tags": [],
            "needs_background": "light"
          }
        }
      ]
    },
    {
      "cell_type": "markdown",
      "metadata": {
        "id": "WxEbiut5q7tH"
      },
      "source": [
        "# Comparison"
      ]
    },
    {
      "cell_type": "code",
      "metadata": {
        "id": "trkmcXaJqwVf",
        "outputId": "b695225c-b2fa-45dd-8e4e-d79aef6f23dd",
        "colab": {
          "base_uri": "https://localhost:8080/",
          "height": 609
        }
      },
      "source": [
        "dx = dfAFI.join(dfCFI.set_index(\"Threshold\"), on='Threshold')\n",
        "dx =    dx.join(dfMFI.set_index(\"Threshold\"), on='Threshold')\n",
        "dx"
      ],
      "execution_count": 17,
      "outputs": [
        {
          "output_type": "execute_result",
          "data": {
            "text/html": [
              "<div>\n",
              "<style scoped>\n",
              "    .dataframe tbody tr th:only-of-type {\n",
              "        vertical-align: middle;\n",
              "    }\n",
              "\n",
              "    .dataframe tbody tr th {\n",
              "        vertical-align: top;\n",
              "    }\n",
              "\n",
              "    .dataframe thead th {\n",
              "        text-align: right;\n",
              "    }\n",
              "</style>\n",
              "<table border=\"1\" class=\"dataframe\">\n",
              "  <thead>\n",
              "    <tr style=\"text-align: right;\">\n",
              "      <th></th>\n",
              "      <th>Threshold</th>\n",
              "      <th>AllItemsets</th>\n",
              "      <th>TimeAllItemsets</th>\n",
              "      <th>ClosedItemsets</th>\n",
              "      <th>TimeClosedItemsets</th>\n",
              "      <th>MaximalItemsets</th>\n",
              "      <th>TimeMaximalItemsets</th>\n",
              "    </tr>\n",
              "  </thead>\n",
              "  <tbody>\n",
              "    <tr>\n",
              "      <th>0</th>\n",
              "      <td>5</td>\n",
              "      <td>304723</td>\n",
              "      <td>0.280474</td>\n",
              "      <td>3980</td>\n",
              "      <td>0.010487</td>\n",
              "      <td>216</td>\n",
              "      <td>0.005433</td>\n",
              "    </tr>\n",
              "    <tr>\n",
              "      <th>1</th>\n",
              "      <td>10</td>\n",
              "      <td>132253</td>\n",
              "      <td>0.088539</td>\n",
              "      <td>3108</td>\n",
              "      <td>0.005892</td>\n",
              "      <td>223</td>\n",
              "      <td>0.002267</td>\n",
              "    </tr>\n",
              "    <tr>\n",
              "      <th>2</th>\n",
              "      <td>15</td>\n",
              "      <td>54888</td>\n",
              "      <td>0.039417</td>\n",
              "      <td>2303</td>\n",
              "      <td>0.003526</td>\n",
              "      <td>208</td>\n",
              "      <td>0.001704</td>\n",
              "    </tr>\n",
              "    <tr>\n",
              "      <th>3</th>\n",
              "      <td>20</td>\n",
              "      <td>28589</td>\n",
              "      <td>0.069813</td>\n",
              "      <td>1618</td>\n",
              "      <td>0.002583</td>\n",
              "      <td>169</td>\n",
              "      <td>0.001459</td>\n",
              "    </tr>\n",
              "    <tr>\n",
              "      <th>4</th>\n",
              "      <td>25</td>\n",
              "      <td>14305</td>\n",
              "      <td>0.009912</td>\n",
              "      <td>1107</td>\n",
              "      <td>0.001972</td>\n",
              "      <td>126</td>\n",
              "      <td>0.001631</td>\n",
              "    </tr>\n",
              "    <tr>\n",
              "      <th>5</th>\n",
              "      <td>30</td>\n",
              "      <td>4710</td>\n",
              "      <td>0.003987</td>\n",
              "      <td>758</td>\n",
              "      <td>0.001649</td>\n",
              "      <td>100</td>\n",
              "      <td>0.001131</td>\n",
              "    </tr>\n",
              "    <tr>\n",
              "      <th>6</th>\n",
              "      <td>35</td>\n",
              "      <td>1600</td>\n",
              "      <td>0.001644</td>\n",
              "      <td>482</td>\n",
              "      <td>0.001336</td>\n",
              "      <td>86</td>\n",
              "      <td>0.001065</td>\n",
              "    </tr>\n",
              "    <tr>\n",
              "      <th>7</th>\n",
              "      <td>40</td>\n",
              "      <td>488</td>\n",
              "      <td>0.001126</td>\n",
              "      <td>291</td>\n",
              "      <td>0.001063</td>\n",
              "      <td>57</td>\n",
              "      <td>0.000959</td>\n",
              "    </tr>\n",
              "    <tr>\n",
              "      <th>8</th>\n",
              "      <td>45</td>\n",
              "      <td>288</td>\n",
              "      <td>0.000936</td>\n",
              "      <td>192</td>\n",
              "      <td>0.001009</td>\n",
              "      <td>37</td>\n",
              "      <td>0.000910</td>\n",
              "    </tr>\n",
              "    <tr>\n",
              "      <th>9</th>\n",
              "      <td>50</td>\n",
              "      <td>168</td>\n",
              "      <td>0.000838</td>\n",
              "      <td>125</td>\n",
              "      <td>0.000892</td>\n",
              "      <td>32</td>\n",
              "      <td>0.000857</td>\n",
              "    </tr>\n",
              "    <tr>\n",
              "      <th>10</th>\n",
              "      <td>55</td>\n",
              "      <td>102</td>\n",
              "      <td>0.000854</td>\n",
              "      <td>82</td>\n",
              "      <td>0.000860</td>\n",
              "      <td>19</td>\n",
              "      <td>0.000898</td>\n",
              "    </tr>\n",
              "    <tr>\n",
              "      <th>11</th>\n",
              "      <td>60</td>\n",
              "      <td>59</td>\n",
              "      <td>0.000749</td>\n",
              "      <td>50</td>\n",
              "      <td>0.000789</td>\n",
              "      <td>16</td>\n",
              "      <td>0.001107</td>\n",
              "    </tr>\n",
              "    <tr>\n",
              "      <th>12</th>\n",
              "      <td>65</td>\n",
              "      <td>31</td>\n",
              "      <td>0.000687</td>\n",
              "      <td>30</td>\n",
              "      <td>0.000794</td>\n",
              "      <td>10</td>\n",
              "      <td>0.001235</td>\n",
              "    </tr>\n",
              "    <tr>\n",
              "      <th>13</th>\n",
              "      <td>70</td>\n",
              "      <td>23</td>\n",
              "      <td>0.000692</td>\n",
              "      <td>22</td>\n",
              "      <td>0.000738</td>\n",
              "      <td>9</td>\n",
              "      <td>0.001059</td>\n",
              "    </tr>\n",
              "    <tr>\n",
              "      <th>14</th>\n",
              "      <td>75</td>\n",
              "      <td>11</td>\n",
              "      <td>0.000696</td>\n",
              "      <td>11</td>\n",
              "      <td>0.000805</td>\n",
              "      <td>6</td>\n",
              "      <td>0.001067</td>\n",
              "    </tr>\n",
              "    <tr>\n",
              "      <th>15</th>\n",
              "      <td>80</td>\n",
              "      <td>6</td>\n",
              "      <td>0.000641</td>\n",
              "      <td>6</td>\n",
              "      <td>0.000713</td>\n",
              "      <td>4</td>\n",
              "      <td>0.001186</td>\n",
              "    </tr>\n",
              "    <tr>\n",
              "      <th>16</th>\n",
              "      <td>85</td>\n",
              "      <td>2</td>\n",
              "      <td>0.000600</td>\n",
              "      <td>2</td>\n",
              "      <td>0.000677</td>\n",
              "      <td>2</td>\n",
              "      <td>0.001010</td>\n",
              "    </tr>\n",
              "    <tr>\n",
              "      <th>17</th>\n",
              "      <td>90</td>\n",
              "      <td>1</td>\n",
              "      <td>0.000608</td>\n",
              "      <td>1</td>\n",
              "      <td>0.000716</td>\n",
              "      <td>1</td>\n",
              "      <td>0.001105</td>\n",
              "    </tr>\n",
              "  </tbody>\n",
              "</table>\n",
              "</div>"
            ],
            "text/plain": [
              "    Threshold  AllItemsets  ...  MaximalItemsets  TimeMaximalItemsets\n",
              "0           5       304723  ...              216             0.005433\n",
              "1          10       132253  ...              223             0.002267\n",
              "2          15        54888  ...              208             0.001704\n",
              "3          20        28589  ...              169             0.001459\n",
              "4          25        14305  ...              126             0.001631\n",
              "5          30         4710  ...              100             0.001131\n",
              "6          35         1600  ...               86             0.001065\n",
              "7          40          488  ...               57             0.000959\n",
              "8          45          288  ...               37             0.000910\n",
              "9          50          168  ...               32             0.000857\n",
              "10         55          102  ...               19             0.000898\n",
              "11         60           59  ...               16             0.001107\n",
              "12         65           31  ...               10             0.001235\n",
              "13         70           23  ...                9             0.001059\n",
              "14         75           11  ...                6             0.001067\n",
              "15         80            6  ...                4             0.001186\n",
              "16         85            2  ...                2             0.001010\n",
              "17         90            1  ...                1             0.001105\n",
              "\n",
              "[18 rows x 7 columns]"
            ]
          },
          "metadata": {
            "tags": []
          },
          "execution_count": 17
        }
      ]
    },
    {
      "cell_type": "code",
      "metadata": {
        "id": "dD03ttA-rUgK",
        "outputId": "eeef61eb-5a1a-46a4-c8f7-b9a2953f7b1a",
        "colab": {
          "base_uri": "https://localhost:8080/",
          "height": 265
        }
      },
      "source": [
        "fig, ax = plt.subplots(1, 2)\n",
        "\n",
        "ax[0].semilogy('Threshold', 'AllItemsets', data=dx, marker=\"x\",\n",
        "               color='skyblue', linewidth=2)\n",
        "ax[0].plot('Threshold', 'ClosedItemsets', data=dx, marker=\"+\",\n",
        "            color='red',  linewidth=2)\n",
        "ax[0].plot('Threshold', 'MaximalItemsets', data=dx, marker=\"o\",\n",
        "            color='olive',  linewidth=2)\n",
        "\n",
        "\n",
        "ax[1].semilogy('Threshold', 'TimeAllItemsets', data=dx, marker=\"x\",\n",
        "               color='skyblue', linewidth=2)\n",
        "ax[1].plot('Threshold', 'TimeClosedItemsets', data=dx, marker=\"+\",\n",
        "            color='red',  linewidth=2)\n",
        "ax[1].plot('Threshold', 'TimeMaximalItemsets', data=dx, marker=\"o\",\n",
        "            color='olive',  linewidth=2)\n",
        "\n",
        "fig.show()"
      ],
      "execution_count": 23,
      "outputs": [
        {
          "output_type": "display_data",
          "data": {
            "image/png": "[encoded data removed]",
            "text/plain": [
              "<Figure size 432x288 with 2 Axes>"
            ]
          },
          "metadata": {
            "tags": [],
            "needs_background": "light"
          }
        }
      ]
    },
    {
      "cell_type": "code",
      "metadata": {
        "id": "Q3XEJDyxtXrF"
      },
      "source": [
        ""
      ],
      "execution_count": null,
      "outputs": []
    }
  ]
}