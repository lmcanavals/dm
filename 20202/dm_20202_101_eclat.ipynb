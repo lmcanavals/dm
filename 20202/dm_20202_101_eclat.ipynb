{
  "nbformat": 4,
  "nbformat_minor": 0,
  "metadata": {
    "colab": {
      "name": "dm 20202 101 eclat.ipynb",
      "provenance": [],
      "authorship_tag": "ABX9TyOq0SNL/wnRTb5AQRadZT3D",
      "include_colab_link": true
    },
    "kernelspec": {
      "name": "python3",
      "display_name": "Python 3"
    }
  },
  "cells": [
    {
      "cell_type": "markdown",
      "metadata": {
        "id": "view-in-github",
        "colab_type": "text"
      },
      "source": [
        "<a href=\"https://colab.research.google.com/github/pcsilcan/dm/blob/master/20202/dm_20202_101_eclat.ipynb\" target=\"_parent\"><img src=\"https://colab.research.google.com/assets/colab-badge.svg\" alt=\"Open In Colab\"/></a>"
      ]
    },
    {
      "cell_type": "markdown",
      "metadata": {
        "id": "pdr-cnoRdLXB"
      },
      "source": [
        "## Instalando fim\n",
        "Si `pip install fim` no funciona, intente lo sugerido en https://borgelt.net/pyfim.html\n",
        "\n",
        "A continuación el código para instalar en gogle colab."
      ]
    },
    {
      "cell_type": "code",
      "metadata": {
        "id": "iTEDUNr7aZYD",
        "outputId": "9f4f84a1-9c57-4152-e074-5ccca9642609",
        "colab": {
          "base_uri": "https://localhost:8080/",
          "height": 71
        }
      },
      "source": [
        "%%script bash\n",
        "curl -O https://borgelt.net/bin/py3/fim.so\n",
        "sudo ln -s \"$(pwd)/fim.so\" /usr/local/lib/python3.6/dist-packages/"
      ],
      "execution_count": 10,
      "outputs": [
        {
          "output_type": "stream",
          "text": [
            "  % Total    % Received % Xferd  Average Speed   Time    Time     Time  Current\n",
            "                                 Dload  Upload   Total   Spent    Left  Speed\n",
            "\r  0     0    0     0    0     0      0      0 --:--:-- --:--:-- --:--:--     0\r  0     0    0     0    0     0      0      0 --:--:-- --:--:-- --:--:--     0\r  0     0    0     0    0     0      0      0 --:--:--  0:00:01 --:--:--     0\r 50  756k   50  383k    0     0   148k      0  0:00:05  0:00:02  0:00:03  148k\r100  756k  100  756k    0     0   266k      0  0:00:02  0:00:02 --:--:--  265k\n"
          ],
          "name": "stderr"
        }
      ]
    },
    {
      "cell_type": "code",
      "metadata": {
        "id": "8gkeHYd-amHY"
      },
      "source": [
        "from fim import *\n",
        "import seaborn as sns\n",
        "import matplotlib.pyplot as plt\n",
        "import numpy as np\n",
        "import time\n",
        "import pandas as pd"
      ],
      "execution_count": 16,
      "outputs": []
    },
    {
      "cell_type": "code",
      "metadata": {
        "id": "--zKYDGucKLn",
        "outputId": "8c9f87d9-0e11-4796-e95a-1d261df1e566",
        "colab": {
          "base_uri": "https://localhost:8080/",
          "height": 1000
        }
      },
      "source": [
        "help(eclat)"
      ],
      "execution_count": 25,
      "outputs": [
        {
          "output_type": "stream",
          "text": [
            "Help on built-in function eclat in module fim:\n",
            "\n",
            "eclat(...)\n",
            "    eclat (tracts, target='s', supp=10, zmin=1, zmax=None, report='a',\n",
            "           eval='x', agg='x', thresh=10, prune=None, algo='a', mode='',\n",
            "           border=None)\n",
            "    Find frequent item sets with the Eclat algorithm.\n",
            "    tracts  transaction database to mine (mandatory)\n",
            "            The database must be an iterable of transactions;\n",
            "            each transaction must be an iterable of items;\n",
            "            each item must be a hashable object.\n",
            "            If the database is a dictionary, the transactions are\n",
            "            the keys, the values their (integer) multiplicities.\n",
            "    target  type of frequent item sets to find     (default: s)\n",
            "            s/a   sets/all   all     frequent item sets\n",
            "            c     closed     closed  frequent item sets\n",
            "            m     maximal    maximal frequent item sets\n",
            "            g     gens       generators\n",
            "            r     rules      association rules\n",
            "    supp    minimum support of an item set         (default: 10)\n",
            "            (positive: percentage, negative: absolute number)\n",
            "    conf    minimum confidence of an assoc. rule   (default: 80%)\n",
            "    zmin    minimum number of items per item set   (default: 1)\n",
            "    zmax    maximum number of items per item set   (default: no limit)\n",
            "    report  values to report with an item set      (default: a)\n",
            "            a     absolute item set support (number of transactions)\n",
            "            s     relative item set support as a fraction\n",
            "            S     relative item set support as a percentage\n",
            "            e     value of item set evaluation measure\n",
            "            E     value of item set evaluation measure as a percentage\n",
            "            (     combine values in a tuple (must be first character)\n",
            "            [     combine values in a list  (must be first character)\n",
            "            #     pattern spectrum as a dictionary  (no patterns)\n",
            "            =     pattern spectrum as a list        (no patterns)\n",
            "            |     pattern spectrum as three columns (no patterns)\n",
            "            for target 'r' (association rules) also available:\n",
            "            b     absolute body set  support (number of transactions)\n",
            "            x     relative body set  support as a fraction\n",
            "            X     relative body set  support as a percentage\n",
            "            h     absolute head item support (number of transactions)\n",
            "            y     relative head item support as a fraction\n",
            "            Y     relative head item support as a percentage\n",
            "            c     rule confidence as a fraction\n",
            "            C     rule confidence as a percentage\n",
            "            l     lift value of a rule (confidence/prior)\n",
            "            L     lift value of a rule as a percentage\n",
            "            Q     support of the empty set (total number of transactions)\n",
            "    eval    measure for item set evaluation        (default: x)\n",
            "            x     none       no measure / zero (default)\n",
            "            b     ldratio    binary logarithm of support quotient       (+)\n",
            "            c     conf       rule confidence                            (+)\n",
            "            d     confdiff   absolute confidence difference to prior    (+)\n",
            "            l     lift       lift value (confidence divided by prior)   (+)\n",
            "            a     liftdiff   absolute difference of lift value to 1     (+)\n",
            "            q     liftquot   difference of lift quotient to 1           (+)\n",
            "            v     cvct       conviction (inverse lift negated head)     (+)\n",
            "            e     cvctdiff   absolute difference of conviction to 1     (+)\n",
            "            r     cvctquot   difference of conviction quotient to 1     (+)\n",
            "            k     cprob      conditional probability ratio              (+)\n",
            "            j     import     importance (binary log. of prob. ratio)    (+)\n",
            "            z     cert       certainty factor (relative conf. change)   (+)\n",
            "            n     chi2       normalized chi^2 measure                   (+)\n",
            "            p     chi2pval   p-value f/ (unnormalized) chi^2 measure    (-)\n",
            "            y     yates      normalized chi^2 with Yates' correction    (+)\n",
            "            t     yatespval  p-value f/ Yates-corrected chi^2 measure   (-)\n",
            "            i     info       information difference to prior            (+)\n",
            "            g     infopval   p-value f/ G statistic/info. difference    (-)\n",
            "            f     fetprob    Fisher's exact test (table probability)    (-)\n",
            "            h     fetchi2    Fisher's exact test (chi^2 measure)        (-)\n",
            "            m     fetinfo    Fisher's exact test (mutual information)   (-)\n",
            "            s     fetsupp    Fisher's exact test (support)              (-)\n",
            "            Measures marked with (+) must meet or exceed the threshold,\n",
            "            measures marked with (-) must not exceed the threshold\n",
            "            in order for the item set to be reported.\n",
            "    agg     evaluation measure aggregation mode    (default: x)\n",
            "            x     none       no aggregation (use first value)\n",
            "            m     min        minimum of individual measure values\n",
            "            n     max        maximum of individual measure values\n",
            "            a     avg        average of individual measure values\n",
            "    thresh  threshold for evaluation measure       (default: 10%)\n",
            "    prune   min. size for evaluation filtering     (default: no pruning)\n",
            "            = 0   backward filtering       (no subset check)\n",
            "            < 0   weak   forward filtering (one subset  must qualify)\n",
            "            > 0   strong forward filtering (all subsets must qualify)\n",
            "    algo    algorithm variant to use               (default: a)\n",
            "            a     auto       automatic choice based on data properties\n",
            "            e     basic      transaction id lists intersection (basic)\n",
            "            i     tids       transaction id lists intersection (improved)\n",
            "            b     bits       transaction id lists as bit vectors\n",
            "            t     table      item occurrence table (standard)\n",
            "            s     simple     item occurrence table (simplified)\n",
            "            r     ranges     transaction id range lists intersection\n",
            "            o     occdlv     occurrence deliver from transaction lists\n",
            "            d     diff       transaction id difference sets (diffsets)\n",
            "    mode    operation mode indicators/flags        (default: None)\n",
            "            l     do not use a 16-items machine\n",
            "            x     do not use perfect extension pruning\n",
            "            i     do not sort items w.r.t. conditional support\n",
            "            u     do not head union tail (hut) pruning (maximal)\n",
            "            y     check extensions for closed/maximal item sets\n",
            "            z     invalidate evaluation below expected support\n",
            "            o     use original rule support definition (body & head)\n",
            "    border  support border for filtering item sets (default: None)\n",
            "            Must be a list or tuple of (absolute) minimum support values\n",
            "            per item set size (by which the list/tuple is indexed).\n",
            "    appear  dictionary mapping items to item appearance indicators,\n",
            "            with the key None referring to the default item appearance.\n",
            "            (If None does not occur as a key or no dictionary is given,\n",
            "            the default item appearance indicator is 'both'.)\n",
            "            This parameter is only used if the target type is rules.\n",
            "            * item may not appear anywhere in a rule:\n",
            "              '-', 'n', 'none', 'neither', 'ignore'\n",
            "            * item may appear only in rule body/antecedent:\n",
            "              'i', 'in', 'inp', 'input', 'b', 'body',\n",
            "              'a', 'ante', 'antecedent'\n",
            "            * item may appear only in rule head/consequent:\n",
            "              'o', 'out',      'output', 'h', 'head',\n",
            "              'c', 'cons', 'consequent'\n",
            "            * item may appear anywhere in a rule:\n",
            "              'io', 'i&o', 'inout', 'in&out', 'bh', 'b&h', 'both'\n",
            "    returns if report is not in ['#','=','|']:\n",
            "              if the target is association rules:\n",
            "                a list of rules (i.e. tuples with two or more elements),\n",
            "                each consisting of a head/consequent item, a tuple with\n",
            "                a body/antecedent item set, and the values selected by\n",
            "                the parameter 'report', which may be combined into a\n",
            "                tuple or a list if report[0] is '(' or '[', respectively.\n",
            "              if the target is a type of item sets:\n",
            "                a list of patterns (i.e. tuples with one or more elements),\n",
            "                each consisting of a tuple with a found frequent item set\n",
            "                and the values selected by the parameter 'report', which\n",
            "                may be combined into a tuple or list if report[0] is '('\n",
            "                or '[', respectively\n",
            "            if report in ['#','=','|']:\n",
            "              a pattern spectrum as a dictionary mapping pattern sizes\n",
            "              to the corresponding occurrence support ranges, as a list\n",
            "              of triplets (size, min. support, max. support) or as three\n",
            "              columns for sizes and minimum and maximum support values\n",
            "\n"
          ],
          "name": "stdout"
        }
      ]
    },
    {
      "cell_type": "code",
      "metadata": {
        "id": "FdL9Zbjwcdks"
      },
      "source": [
        "def loadDataset(filename):\n",
        "    with open(filename, 'r') as file:\n",
        "        dataset = []\n",
        "        dataset1 = []\n",
        "        for x in file:\n",
        "            if \"#\" not in x:\n",
        "                items = x.split()\n",
        "                dataset.append([int(j) for j in items[1:]])\n",
        "                if items[0] == '1':\n",
        "                    dataset1.append([int(j) for j in items[1:]])\n",
        "\n",
        "    return dataset, dataset1"
      ],
      "execution_count": 19,
      "outputs": []
    },
    {
      "cell_type": "code",
      "metadata": {
        "id": "49PlA-ZJfapw"
      },
      "source": [
        "repo = \"https://raw.githubusercontent.com/pcsilcan/dm/master/20202/data/\"\n",
        "filename = \"zoo.bin\""
      ],
      "execution_count": 22,
      "outputs": []
    },
    {
      "cell_type": "code",
      "metadata": {
        "id": "i7qkwUaSfKoD",
        "outputId": "546f3907-c7b2-4ec7-f3cd-306477a60b88",
        "colab": {
          "base_uri": "https://localhost:8080/",
          "height": 71
        }
      },
      "source": [
        "!curl -O \"$repo$filename\""
      ],
      "execution_count": 23,
      "outputs": [
        {
          "output_type": "stream",
          "text": [
            "  % Total    % Received % Xferd  Average Speed   Time    Time     Time  Current\n",
            "                                 Dload  Upload   Total   Spent    Left  Speed\n",
            "\r  0     0    0     0    0     0      0      0 --:--:-- --:--:-- --:--:--     0\r  0     0    0     0    0     0      0      0 --:--:-- --:--:-- --:--:--     0\r100  5017  100  5017    0     0  63506      0 --:--:-- --:--:-- --:--:-- 62712\n"
          ],
          "name": "stdout"
        }
      ]
    },
    {
      "cell_type": "code",
      "metadata": {
        "id": "0AdKrt39fueg"
      },
      "source": [
        "d, _ = loadDataset(filename)"
      ],
      "execution_count": 24,
      "outputs": []
    },
    {
      "cell_type": "markdown",
      "metadata": {
        "id": "mDP9e0MHf6LP"
      },
      "source": [
        "# All Patterns"
      ]
    },
    {
      "cell_type": "code",
      "metadata": {
        "id": "Xy5PnbSnf4Zp"
      },
      "source": [
        "def allPatterns(d, minsupp):\n",
        "    s = eclat(d, target='a', supp=minsupp)\n",
        "    if len(s) > 0:\n",
        "        df = pd.DataFrame(s)\n",
        "        df.columns = [\"Patterns\", \"Freq\"]\n",
        "        return df, True\n",
        "    return _, False"
      ],
      "execution_count": 26,
      "outputs": []
    },
    {
      "cell_type": "code",
      "metadata": {
        "id": "XJ0yk2jHgLx7"
      },
      "source": [
        "def plotAllPatterns(filename):\n",
        "    numberdata = []\n",
        "    d, _ = loadDataset(filename)\n",
        "    k = len(d) // 20\n",
        "    for i in range(k, len(d), k):\n",
        "        start = time.time()\n",
        "        t, r = allPatterns(d, i)\n",
        "        end = time.time()\n",
        "        if r:\n",
        "            numberdata.append((i, t.shape[0], end - start))\n",
        "    df = pd.DataFrame(numberdata)\n",
        "    df.columns = [\"Threshold\", \"AllItemsets\", \"TimeAllItemsets\"]\n",
        "    fig, ax = plt.subplots(1, 2)\n",
        "    sns.lineplot(x=\"Threshold\", y=\"AllItemsets\", ax=ax[0], data=df)\n",
        "    sns.lineplot(x=\"Threshold\", y=\"TimeAllItemsets\", ax=ax[1], data=df)\n",
        "    fig.show()"
      ],
      "execution_count": 31,
      "outputs": []
    },
    {
      "cell_type": "code",
      "metadata": {
        "id": "FmNneq_EiM3p",
        "outputId": "2ab1849b-1428-4151-ce81-dde92681f51f",
        "colab": {
          "base_uri": "https://localhost:8080/",
          "height": 279
        }
      },
      "source": [
        "dfAFI = plotAllPatterns(filename)"
      ],
      "execution_count": 32,
      "outputs": [
        {
          "output_type": "display_data",
          "data": {
            "image/png": "[encoded data removed]",
            "text/plain": [
              "<Figure size 432x288 with 2 Axes>"
            ]
          },
          "metadata": {
            "tags": [],
            "needs_background": "light"
          }
        }
      ]
    },
    {
      "cell_type": "code",
      "metadata": {
        "id": "n5tWht2JiUu-"
      },
      "source": [
        ""
      ],
      "execution_count": null,
      "outputs": []
    }
  ]
}