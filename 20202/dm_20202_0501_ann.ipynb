{
  "nbformat": 4,
  "nbformat_minor": 0,
  "metadata": {
    "colab": {
      "name": "dm 20202 0501 ann.ipynb",
      "provenance": [],
      "authorship_tag": "ABX9TyOljaF7K0NX8zAJifoUDezu",
      "include_colab_link": true
    },
    "kernelspec": {
      "name": "python3",
      "display_name": "Python 3"
    }
  },
  "cells": [
    {
      "cell_type": "markdown",
      "metadata": {
        "id": "view-in-github",
        "colab_type": "text"
      },
      "source": [
        "<a href=\"https://colab.research.google.com/github/pcsilcan/dm/blob/master/20202/dm_20202_0501_ann.ipynb\" target=\"_parent\"><img src=\"https://colab.research.google.com/assets/colab-badge.svg\" alt=\"Open In Colab\"/></a>"
      ]
    },
    {
      "cell_type": "code",
      "metadata": {
        "id": "AVxWKq9uAVBd",
        "colab_type": "code",
        "colab": {}
      },
      "source": [
        "import numpy as np\n",
        "import pandas as pd\n",
        "import tensorflow as tf\n",
        "from tensorflow import keras\n",
        "from tensorflow.keras import Sequential\n",
        "from tensorflow.keras.layers import Dense"
      ],
      "execution_count": 23,
      "outputs": []
    },
    {
      "cell_type": "code",
      "metadata": {
        "id": "DUtRNiVbA2jk",
        "colab_type": "code",
        "colab": {}
      },
      "source": [
        "repo='https://raw.githubusercontent.com/pcsilcan/dm/master/20202/data/'\n",
        "irisfile='iris.csv'\n",
        "url='%s%s'%(repo, irisfile)"
      ],
      "execution_count": 11,
      "outputs": []
    },
    {
      "cell_type": "code",
      "metadata": {
        "id": "AAwqMGf7Bn4I",
        "colab_type": "code",
        "colab": {
          "base_uri": "https://localhost:8080/",
          "height": 195
        },
        "outputId": "3829f6eb-9c4c-4d58-cbee-d4dbc35b477e"
      },
      "source": [
        "df = pd.read_csv(url).sample(frac=1)\n",
        "df.head()"
      ],
      "execution_count": 13,
      "outputs": [
        {
          "output_type": "execute_result",
          "data": {
            "text/html": [
              "<div>\n",
              "<style scoped>\n",
              "    .dataframe tbody tr th:only-of-type {\n",
              "        vertical-align: middle;\n",
              "    }\n",
              "\n",
              "    .dataframe tbody tr th {\n",
              "        vertical-align: top;\n",
              "    }\n",
              "\n",
              "    .dataframe thead th {\n",
              "        text-align: right;\n",
              "    }\n",
              "</style>\n",
              "<table border=\"1\" class=\"dataframe\">\n",
              "  <thead>\n",
              "    <tr style=\"text-align: right;\">\n",
              "      <th></th>\n",
              "      <th>sepal.length</th>\n",
              "      <th>sepal.width</th>\n",
              "      <th>petal.length</th>\n",
              "      <th>petal.width</th>\n",
              "      <th>variety</th>\n",
              "    </tr>\n",
              "  </thead>\n",
              "  <tbody>\n",
              "    <tr>\n",
              "      <th>136</th>\n",
              "      <td>6.3</td>\n",
              "      <td>3.4</td>\n",
              "      <td>5.6</td>\n",
              "      <td>2.4</td>\n",
              "      <td>Virginica</td>\n",
              "    </tr>\n",
              "    <tr>\n",
              "      <th>40</th>\n",
              "      <td>5.0</td>\n",
              "      <td>3.5</td>\n",
              "      <td>1.3</td>\n",
              "      <td>0.3</td>\n",
              "      <td>Setosa</td>\n",
              "    </tr>\n",
              "    <tr>\n",
              "      <th>57</th>\n",
              "      <td>4.9</td>\n",
              "      <td>2.4</td>\n",
              "      <td>3.3</td>\n",
              "      <td>1.0</td>\n",
              "      <td>Versicolor</td>\n",
              "    </tr>\n",
              "    <tr>\n",
              "      <th>130</th>\n",
              "      <td>7.4</td>\n",
              "      <td>2.8</td>\n",
              "      <td>6.1</td>\n",
              "      <td>1.9</td>\n",
              "      <td>Virginica</td>\n",
              "    </tr>\n",
              "    <tr>\n",
              "      <th>90</th>\n",
              "      <td>5.5</td>\n",
              "      <td>2.6</td>\n",
              "      <td>4.4</td>\n",
              "      <td>1.2</td>\n",
              "      <td>Versicolor</td>\n",
              "    </tr>\n",
              "  </tbody>\n",
              "</table>\n",
              "</div>"
            ],
            "text/plain": [
              "     sepal.length  sepal.width  petal.length  petal.width     variety\n",
              "136           6.3          3.4           5.6          2.4   Virginica\n",
              "40            5.0          3.5           1.3          0.3      Setosa\n",
              "57            4.9          2.4           3.3          1.0  Versicolor\n",
              "130           7.4          2.8           6.1          1.9   Virginica\n",
              "90            5.5          2.6           4.4          1.2  Versicolor"
            ]
          },
          "metadata": {
            "tags": []
          },
          "execution_count": 13
        }
      ]
    },
    {
      "cell_type": "code",
      "metadata": {
        "id": "PysoauYgByzq",
        "colab_type": "code",
        "colab": {
          "base_uri": "https://localhost:8080/",
          "height": 50
        },
        "outputId": "177b46b8-c8f0-49e3-eb7f-76e4c4766a85"
      },
      "source": [
        "x_train = df.iloc[:120, :-1].to_numpy()\n",
        "y_train = pd.get_dummies(df.iloc[:120, -1]).to_numpy()\n",
        "\n",
        "x_test = df.iloc[120:, :-1].to_numpy()\n",
        "y_test = pd.get_dummies(df.iloc[120:, -1]).to_numpy()\n",
        "\n",
        "print(x_train.shape, y_train.shape)\n",
        "print(x_test.shape, y_test.shape)"
      ],
      "execution_count": 22,
      "outputs": [
        {
          "output_type": "stream",
          "text": [
            "(120, 4) (120, 3)\n",
            "(30, 4) (30, 3)\n"
          ],
          "name": "stdout"
        }
      ]
    },
    {
      "cell_type": "markdown",
      "metadata": {
        "id": "LHLu5dMHHjzr",
        "colab_type": "text"
      },
      "source": [
        "## Defining the ANN with Keras"
      ]
    },
    {
      "cell_type": "code",
      "metadata": {
        "id": "OVTgeudiFNdY",
        "colab_type": "code",
        "colab": {}
      },
      "source": [
        "model = Sequential([Dense(8, input_dim=4, activation='relu'),\n",
        "                    Dense(16, activation='relu'),\n",
        "                    Dense(32, activation='relu'),\n",
        "                    Dense(16, activation='relu'),\n",
        "                    Dense(8, activation='relu'),\n",
        "                    Dense(3, activation='softmax')])\n",
        "model.compile(optimizer='adam', loss='binary_crossentropy', metrics=['accuracy'])"
      ],
      "execution_count": 24,
      "outputs": []
    },
    {
      "cell_type": "code",
      "metadata": {
        "id": "4z4BDzv1IyLT",
        "colab_type": "code",
        "colab": {
          "base_uri": "https://localhost:8080/",
          "height": 370
        },
        "outputId": "a541c131-2db8-4efe-acdc-1d9535b46902"
      },
      "source": [
        "model.fit(x_train, y_train, epochs=10, batch_size=10)"
      ],
      "execution_count": 25,
      "outputs": [
        {
          "output_type": "stream",
          "text": [
            "Epoch 1/10\n",
            "12/12 [==============================] - 0s 1ms/step - loss: 0.6281 - accuracy: 0.6250\n",
            "Epoch 2/10\n",
            "12/12 [==============================] - 0s 1ms/step - loss: 0.6147 - accuracy: 0.6583\n",
            "Epoch 3/10\n",
            "12/12 [==============================] - 0s 1ms/step - loss: 0.6043 - accuracy: 0.6583\n",
            "Epoch 4/10\n",
            "12/12 [==============================] - 0s 1ms/step - loss: 0.5937 - accuracy: 0.6583\n",
            "Epoch 5/10\n",
            "12/12 [==============================] - 0s 1ms/step - loss: 0.5805 - accuracy: 0.6583\n",
            "Epoch 6/10\n",
            "12/12 [==============================] - 0s 1ms/step - loss: 0.5650 - accuracy: 0.6583\n",
            "Epoch 7/10\n",
            "12/12 [==============================] - 0s 1ms/step - loss: 0.5521 - accuracy: 0.6583\n",
            "Epoch 8/10\n",
            "12/12 [==============================] - 0s 1ms/step - loss: 0.5350 - accuracy: 0.6583\n",
            "Epoch 9/10\n",
            "12/12 [==============================] - 0s 2ms/step - loss: 0.5148 - accuracy: 0.6583\n",
            "Epoch 10/10\n",
            "12/12 [==============================] - 0s 1ms/step - loss: 0.4981 - accuracy: 0.6583\n"
          ],
          "name": "stdout"
        },
        {
          "output_type": "execute_result",
          "data": {
            "text/plain": [
              "<tensorflow.python.keras.callbacks.History at 0x7f69a737ed68>"
            ]
          },
          "metadata": {
            "tags": []
          },
          "execution_count": 25
        }
      ]
    },
    {
      "cell_type": "code",
      "metadata": {
        "id": "Jy4nxxY1I4IR",
        "colab_type": "code",
        "colab": {
          "base_uri": "https://localhost:8080/",
          "height": 50
        },
        "outputId": "606db3ce-9b42-4864-c225-2e2c2a16072f"
      },
      "source": [
        "model.evaluate(x_test, y_test)"
      ],
      "execution_count": 26,
      "outputs": [
        {
          "output_type": "stream",
          "text": [
            "1/1 [==============================] - 0s 2ms/step - loss: 0.4806 - accuracy: 0.7000\n"
          ],
          "name": "stdout"
        },
        {
          "output_type": "execute_result",
          "data": {
            "text/plain": [
              "[0.4805748760700226, 0.699999988079071]"
            ]
          },
          "metadata": {
            "tags": []
          },
          "execution_count": 26
        }
      ]
    },
    {
      "cell_type": "code",
      "metadata": {
        "id": "0hKJk1D2JBOI",
        "colab_type": "code",
        "colab": {}
      },
      "source": [
        ""
      ],
      "execution_count": null,
      "outputs": []
    }
  ]
}