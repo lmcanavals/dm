{
  "nbformat": 4,
  "nbformat_minor": 0,
  "metadata": {
    "colab": {
      "name": "dm 20202 111 emerging patterns.ipynb",
      "provenance": [],
      "authorship_tag": "ABX9TyOO1O1QMLvTGEqdPfKfWc1J",
      "include_colab_link": true
    },
    "kernelspec": {
      "name": "python3",
      "display_name": "Python 3"
    }
  },
  "cells": [
    {
      "cell_type": "markdown",
      "metadata": {
        "id": "view-in-github",
        "colab_type": "text"
      },
      "source": [
        "<a href=\"https://colab.research.google.com/github/pcsilcan/dm/blob/master/20202/dm_20202_111_emerging_patterns.ipynb\" target=\"_parent\"><img src=\"https://colab.research.google.com/assets/colab-badge.svg\" alt=\"Open In Colab\"/></a>"
      ]
    },
    {
      "cell_type": "markdown",
      "metadata": {
        "id": "pdr-cnoRdLXB"
      },
      "source": [
        "## Instalando fim\n",
        "Si `pip install fim` no funciona, intente lo sugerido en https://borgelt.net/pyfim.html\n",
        "\n",
        "A continuación el código para instalar en gogle colab."
      ]
    },
    {
      "cell_type": "code",
      "metadata": {
        "id": "iTEDUNr7aZYD",
        "outputId": "596115c0-a105-4e67-f5c2-49eec6fbb595",
        "colab": {
          "base_uri": "https://localhost:8080/",
          "height": 67
        }
      },
      "source": [
        "%%script bash\n",
        "curl -O https://borgelt.net/bin/py3/fim.so\n",
        "sudo ln -sf \"$(pwd)/fim.so\" /usr/local/lib/python3.6/dist-packages/"
      ],
      "execution_count": 5,
      "outputs": [
        {
          "output_type": "stream",
          "text": [
            "  % Total    % Received % Xferd  Average Speed   Time    Time     Time  Current\n",
            "                                 Dload  Upload   Total   Spent    Left  Speed\n",
            "\r  0     0    0     0    0     0      0      0 --:--:-- --:--:-- --:--:--     0\r100  756k  100  756k    0     0  3859k      0 --:--:-- --:--:-- --:--:-- 3859k\n"
          ],
          "name": "stderr"
        }
      ]
    },
    {
      "cell_type": "code",
      "metadata": {
        "id": "ETYidyagYjk_"
      },
      "source": [
        "baseurl=\"https://raw.githubusercontent.com/pcsilcan/dm/master/20202/data/\"\n",
        "filename=\"zoo.bin\""
      ],
      "execution_count": 1,
      "outputs": []
    },
    {
      "cell_type": "code",
      "metadata": {
        "id": "62_L4Co_Y__c"
      },
      "source": [
        "!curl -O \"$baseurl$filename\" 2>/dev/null"
      ],
      "execution_count": 3,
      "outputs": []
    },
    {
      "cell_type": "code",
      "metadata": {
        "id": "39TWATW-ZNiC"
      },
      "source": [
        "def loadDataset(filename):\n",
        "    with open(filename, \"r\") as file:\n",
        "        dataset = []\n",
        "        dataset1 = []\n",
        "        for x in file:\n",
        "            if \"#\" in x: continue\n",
        "            items = x.split()\n",
        "            dataset.append([int(j) for j in items [1:]])\n",
        "            if items[0] == '1':\n",
        "                dataset1.append([int(j) for j in items [1:]])\n",
        "\n",
        "    return dataset, dataset1"
      ],
      "execution_count": 14,
      "outputs": []
    },
    {
      "cell_type": "code",
      "metadata": {
        "id": "8gkeHYd-amHY"
      },
      "source": [
        "from fim import *"
      ],
      "execution_count": 6,
      "outputs": []
    },
    {
      "cell_type": "code",
      "metadata": {
        "id": "HgsAEPGmbXLt"
      },
      "source": [
        "import matplotlib.pyplot as plt\n",
        "import numpy as no\n",
        "import seaborn as sns; sns.set()\n",
        "import time\n",
        "import pandas as pd"
      ],
      "execution_count": 12,
      "outputs": []
    },
    {
      "cell_type": "code",
      "metadata": {
        "id": "_nkz0mHHdv8I"
      },
      "source": [
        "d, d1 = loadDataset(filename)"
      ],
      "execution_count": 15,
      "outputs": []
    },
    {
      "cell_type": "code",
      "metadata": {
        "id": "QgZWsc9geOLM"
      },
      "source": [
        "def emergingPattern(d, d1, minsupp, mingr):\n",
        "    allitemsets = eclat(d, target='a', supp=-minsupp)\n",
        "    if len(allitemsets) > 0:\n",
        "        allitemsets1 = eclat(d1, target='a', supp=-minsupp)\n",
        "        df = pd.DataFrame(allitemsets)\n",
        "        df.columns = [\"Pattern\", \"Freq\"]\n",
        "        df1 = pd.DataFrame(allitemsets1)\n",
        "        df1.columns = [\"Pattern\", \"Freq1\"]\n",
        "        emerging = df.join(df1.set_index('Pattern'), on='Pattern').fillna(0)\n",
        "        emerging[\"Gr\"] = ((len(d) - len(d1)) * emerging[\"Freq1\"]) / \\\n",
        "                          (len(d1) * (emerging[\"Freq\"] - emerging[\"Freq1\"]))\n",
        "        emerging = emerging[emerging.Gr >= mingr]\n",
        "        jep = emerging[emerging.Freq == emerging.Freq1]\n",
        "        \n",
        "        return emerging, jep, True\n",
        "    \n",
        "    return _, _, False"
      ],
      "execution_count": 17,
      "outputs": []
    },
    {
      "cell_type": "code",
      "metadata": {
        "id": "G3k-iByqgHZn"
      },
      "source": [
        "def plotEmergingPatterns(v, em):\n",
        "    numberData = []\n",
        "    if v:\n",
        "        for i in range(0, 61, 5):\n",
        "            em_ = em[em.Gr >= i]\n",
        "            numberData.append((i, len(em_), 0))\n",
        "    df = pd.DataFrame(numberData)\n",
        "    df.columns = [\"Growth-rate\", \"#Itemsets\", \"TimeEmergingItemsets\"]\n",
        "    sns.lineplot(x=\"Growth-rate\", y=\"#Itemsets\", data=df)\n",
        "\n",
        "    return df\n",
        "    "
      ],
      "execution_count": 25,
      "outputs": []
    },
    {
      "cell_type": "code",
      "metadata": {
        "id": "S0zsnwQwhOoY",
        "outputId": "409031b3-2817-4f10-941e-c084bfd4761e",
        "colab": {
          "base_uri": "https://localhost:8080/",
          "height": 703
        }
      },
      "source": [
        "d, d1 = loadDataset(filename)\n",
        "em, jep, ok = emergingPattern(d, d1, -1, 1)\n",
        "plotEmergingPatterns(ok, em)"
      ],
      "execution_count": 26,
      "outputs": [
        {
          "output_type": "execute_result",
          "data": {
            "text/html": [
              "<div>\n",
              "<style scoped>\n",
              "    .dataframe tbody tr th:only-of-type {\n",
              "        vertical-align: middle;\n",
              "    }\n",
              "\n",
              "    .dataframe tbody tr th {\n",
              "        vertical-align: top;\n",
              "    }\n",
              "\n",
              "    .dataframe thead th {\n",
              "        text-align: right;\n",
              "    }\n",
              "</style>\n",
              "<table border=\"1\" class=\"dataframe\">\n",
              "  <thead>\n",
              "    <tr style=\"text-align: right;\">\n",
              "      <th></th>\n",
              "      <th>Growth-rate</th>\n",
              "      <th>#Itemsets</th>\n",
              "      <th>TimeEmergingItemsets</th>\n",
              "    </tr>\n",
              "  </thead>\n",
              "  <tbody>\n",
              "    <tr>\n",
              "      <th>0</th>\n",
              "      <td>0</td>\n",
              "      <td>2315</td>\n",
              "      <td>0</td>\n",
              "    </tr>\n",
              "    <tr>\n",
              "      <th>1</th>\n",
              "      <td>5</td>\n",
              "      <td>1865</td>\n",
              "      <td>0</td>\n",
              "    </tr>\n",
              "    <tr>\n",
              "      <th>2</th>\n",
              "      <td>10</td>\n",
              "      <td>1669</td>\n",
              "      <td>0</td>\n",
              "    </tr>\n",
              "    <tr>\n",
              "      <th>3</th>\n",
              "      <td>15</td>\n",
              "      <td>1611</td>\n",
              "      <td>0</td>\n",
              "    </tr>\n",
              "    <tr>\n",
              "      <th>4</th>\n",
              "      <td>20</td>\n",
              "      <td>1581</td>\n",
              "      <td>0</td>\n",
              "    </tr>\n",
              "    <tr>\n",
              "      <th>5</th>\n",
              "      <td>25</td>\n",
              "      <td>1560</td>\n",
              "      <td>0</td>\n",
              "    </tr>\n",
              "    <tr>\n",
              "      <th>6</th>\n",
              "      <td>30</td>\n",
              "      <td>1540</td>\n",
              "      <td>0</td>\n",
              "    </tr>\n",
              "    <tr>\n",
              "      <th>7</th>\n",
              "      <td>35</td>\n",
              "      <td>1514</td>\n",
              "      <td>0</td>\n",
              "    </tr>\n",
              "    <tr>\n",
              "      <th>8</th>\n",
              "      <td>40</td>\n",
              "      <td>1482</td>\n",
              "      <td>0</td>\n",
              "    </tr>\n",
              "    <tr>\n",
              "      <th>9</th>\n",
              "      <td>45</td>\n",
              "      <td>1473</td>\n",
              "      <td>0</td>\n",
              "    </tr>\n",
              "    <tr>\n",
              "      <th>10</th>\n",
              "      <td>50</td>\n",
              "      <td>1470</td>\n",
              "      <td>0</td>\n",
              "    </tr>\n",
              "    <tr>\n",
              "      <th>11</th>\n",
              "      <td>55</td>\n",
              "      <td>1470</td>\n",
              "      <td>0</td>\n",
              "    </tr>\n",
              "    <tr>\n",
              "      <th>12</th>\n",
              "      <td>60</td>\n",
              "      <td>1468</td>\n",
              "      <td>0</td>\n",
              "    </tr>\n",
              "  </tbody>\n",
              "</table>\n",
              "</div>"
            ],
            "text/plain": [
              "    Growth-rate  #Itemsets  TimeEmergingItemsets\n",
              "0             0       2315                     0\n",
              "1             5       1865                     0\n",
              "2            10       1669                     0\n",
              "3            15       1611                     0\n",
              "4            20       1581                     0\n",
              "5            25       1560                     0\n",
              "6            30       1540                     0\n",
              "7            35       1514                     0\n",
              "8            40       1482                     0\n",
              "9            45       1473                     0\n",
              "10           50       1470                     0\n",
              "11           55       1470                     0\n",
              "12           60       1468                     0"
            ]
          },
          "metadata": {
            "tags": []
          },
          "execution_count": 26
        },
        {
          "output_type": "display_data",
          "data": {
            "image/png": "[encoded data removed]",
            "text/plain": [
              "<Figure size 432x288 with 1 Axes>"
            ]
          },
          "metadata": {
            "tags": []
          }
        }
      ]
    },
    {
      "cell_type": "code",
      "metadata": {
        "id": "2OshdkBbhaj1",
        "outputId": "af0dc07f-417c-4214-e152-f8db2caa1fd7",
        "colab": {
          "base_uri": "https://localhost:8080/",
          "height": 345
        }
      },
      "source": [
        "jep[:10]"
      ],
      "execution_count": 27,
      "outputs": [
        {
          "output_type": "execute_result",
          "data": {
            "text/html": [
              "<div>\n",
              "<style scoped>\n",
              "    .dataframe tbody tr th:only-of-type {\n",
              "        vertical-align: middle;\n",
              "    }\n",
              "\n",
              "    .dataframe tbody tr th {\n",
              "        vertical-align: top;\n",
              "    }\n",
              "\n",
              "    .dataframe thead th {\n",
              "        text-align: right;\n",
              "    }\n",
              "</style>\n",
              "<table border=\"1\" class=\"dataframe\">\n",
              "  <thead>\n",
              "    <tr style=\"text-align: right;\">\n",
              "      <th></th>\n",
              "      <th>Pattern</th>\n",
              "      <th>Freq</th>\n",
              "      <th>Freq1</th>\n",
              "      <th>Gr</th>\n",
              "    </tr>\n",
              "  </thead>\n",
              "  <tbody>\n",
              "    <tr>\n",
              "      <th>35921</th>\n",
              "      <td>(20, 23, 18)</td>\n",
              "      <td>19</td>\n",
              "      <td>19.0</td>\n",
              "      <td>inf</td>\n",
              "    </tr>\n",
              "    <tr>\n",
              "      <th>40381</th>\n",
              "      <td>(43, 23, 27, 16)</td>\n",
              "      <td>31</td>\n",
              "      <td>31.0</td>\n",
              "      <td>inf</td>\n",
              "    </tr>\n",
              "    <tr>\n",
              "      <th>40384</th>\n",
              "      <td>(43, 23, 27, 28)</td>\n",
              "      <td>31</td>\n",
              "      <td>31.0</td>\n",
              "      <td>inf</td>\n",
              "    </tr>\n",
              "    <tr>\n",
              "      <th>40385</th>\n",
              "      <td>(43, 23, 27)</td>\n",
              "      <td>31</td>\n",
              "      <td>31.0</td>\n",
              "      <td>inf</td>\n",
              "    </tr>\n",
              "    <tr>\n",
              "      <th>41109</th>\n",
              "      <td>(43, 18, 23, 30)</td>\n",
              "      <td>26</td>\n",
              "      <td>26.0</td>\n",
              "      <td>inf</td>\n",
              "    </tr>\n",
              "    <tr>\n",
              "      <th>41113</th>\n",
              "      <td>(43, 18, 23)</td>\n",
              "      <td>26</td>\n",
              "      <td>26.0</td>\n",
              "      <td>inf</td>\n",
              "    </tr>\n",
              "    <tr>\n",
              "      <th>49851</th>\n",
              "      <td>(9, 25, 27, 28)</td>\n",
              "      <td>39</td>\n",
              "      <td>39.0</td>\n",
              "      <td>inf</td>\n",
              "    </tr>\n",
              "    <tr>\n",
              "      <th>49852</th>\n",
              "      <td>(9, 25, 27)</td>\n",
              "      <td>39</td>\n",
              "      <td>39.0</td>\n",
              "      <td>inf</td>\n",
              "    </tr>\n",
              "    <tr>\n",
              "      <th>49853</th>\n",
              "      <td>(9, 25, 28)</td>\n",
              "      <td>39</td>\n",
              "      <td>39.0</td>\n",
              "      <td>inf</td>\n",
              "    </tr>\n",
              "    <tr>\n",
              "      <th>49854</th>\n",
              "      <td>(9, 25)</td>\n",
              "      <td>39</td>\n",
              "      <td>39.0</td>\n",
              "      <td>inf</td>\n",
              "    </tr>\n",
              "  </tbody>\n",
              "</table>\n",
              "</div>"
            ],
            "text/plain": [
              "                Pattern  Freq  Freq1   Gr\n",
              "35921      (20, 23, 18)    19   19.0  inf\n",
              "40381  (43, 23, 27, 16)    31   31.0  inf\n",
              "40384  (43, 23, 27, 28)    31   31.0  inf\n",
              "40385      (43, 23, 27)    31   31.0  inf\n",
              "41109  (43, 18, 23, 30)    26   26.0  inf\n",
              "41113      (43, 18, 23)    26   26.0  inf\n",
              "49851   (9, 25, 27, 28)    39   39.0  inf\n",
              "49852       (9, 25, 27)    39   39.0  inf\n",
              "49853       (9, 25, 28)    39   39.0  inf\n",
              "49854           (9, 25)    39   39.0  inf"
            ]
          },
          "metadata": {
            "tags": []
          },
          "execution_count": 27
        }
      ]
    },
    {
      "cell_type": "code",
      "metadata": {
        "id": "hqMn5cNUh9lh"
      },
      "source": [
        ""
      ],
      "execution_count": null,
      "outputs": []
    }
  ]
}