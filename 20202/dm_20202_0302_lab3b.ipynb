{
  "nbformat": 4,
  "nbformat_minor": 0,
  "metadata": {
    "colab": {
      "name": "dm 20202 0302 lab3b.ipynb",
      "provenance": [],
      "authorship_tag": "ABX9TyMhgSxtkqL2hoo5CXpHRziu",
      "include_colab_link": true
    },
    "kernelspec": {
      "name": "python3",
      "display_name": "Python 3"
    }
  },
  "cells": [
    {
      "cell_type": "markdown",
      "metadata": {
        "id": "view-in-github",
        "colab_type": "text"
      },
      "source": [
        "<a href=\"https://colab.research.google.com/github/pcsilcan/dm/blob/master/20202/dm_20202_0302_lab3b.ipynb\" target=\"_parent\"><img src=\"https://colab.research.google.com/assets/colab-badge.svg\" alt=\"Open In Colab\"/></a>"
      ]
    },
    {
      "cell_type": "code",
      "metadata": {
        "id": "cEf1cLNHEgAU",
        "colab_type": "code",
        "colab": {}
      },
      "source": [
        "import pandas as pd\n",
        "import numpy as np\n",
        "import matplotlib.pyplot as plt"
      ],
      "execution_count": 31,
      "outputs": []
    },
    {
      "cell_type": "code",
      "metadata": {
        "id": "_tnJmJftDGH6",
        "colab_type": "code",
        "colab": {}
      },
      "source": [
        "url_cat_ord=\"https://raw.githubusercontent.com/pcsilcan/dm/master/20202/data/Catalog_Orders.txt\"\n",
        "url_web_ord=\"https://raw.githubusercontent.com/pcsilcan/dm/master/20202/data/Web_orders.txt\""
      ],
      "execution_count": 2,
      "outputs": []
    },
    {
      "cell_type": "code",
      "metadata": {
        "id": "dCwcoOAvFBOI",
        "colab_type": "code",
        "colab": {}
      },
      "source": [
        "catalog=pd.read_csv(url_cat_ord)"
      ],
      "execution_count": 3,
      "outputs": []
    },
    {
      "cell_type": "code",
      "metadata": {
        "id": "eUB0V0SPFIPk",
        "colab_type": "code",
        "colab": {
          "base_uri": "https://localhost:8080/",
          "height": 402
        },
        "outputId": "515601cf-8086-45e0-81ac-120b96ed7fb0"
      },
      "source": [
        "catalog"
      ],
      "execution_count": 5,
      "outputs": [
        {
          "output_type": "execute_result",
          "data": {
            "text/html": [
              "<div>\n",
              "<style scoped>\n",
              "    .dataframe tbody tr th:only-of-type {\n",
              "        vertical-align: middle;\n",
              "    }\n",
              "\n",
              "    .dataframe tbody tr th {\n",
              "        vertical-align: top;\n",
              "    }\n",
              "\n",
              "    .dataframe thead th {\n",
              "        text-align: right;\n",
              "    }\n",
              "</style>\n",
              "<table border=\"1\" class=\"dataframe\">\n",
              "  <thead>\n",
              "    <tr style=\"text-align: right;\">\n",
              "      <th></th>\n",
              "      <th>ID</th>\n",
              "      <th>INV</th>\n",
              "      <th>DATE</th>\n",
              "      <th>CATALOG</th>\n",
              "      <th>PCODE</th>\n",
              "      <th>QTY</th>\n",
              "      <th>custnum</th>\n",
              "    </tr>\n",
              "  </thead>\n",
              "  <tbody>\n",
              "    <tr>\n",
              "      <th>0</th>\n",
              "      <td>1</td>\n",
              "      <td>107707.0</td>\n",
              "      <td>3/97/7 00:00:00</td>\n",
              "      <td>Sports</td>\n",
              "      <td>SP1000</td>\n",
              "      <td>1.00</td>\n",
              "      <td>1242.0</td>\n",
              "    </tr>\n",
              "    <tr>\n",
              "      <th>1</th>\n",
              "      <td>2</td>\n",
              "      <td>110633.0</td>\n",
              "      <td>3/97/25 00:00:00</td>\n",
              "      <td>Gardening</td>\n",
              "      <td>GD2200</td>\n",
              "      <td>1.00</td>\n",
              "      <td>1243.0</td>\n",
              "    </tr>\n",
              "    <tr>\n",
              "      <th>2</th>\n",
              "      <td>3</td>\n",
              "      <td>111155.0</td>\n",
              "      <td>3/97/28 00:00:00</td>\n",
              "      <td>Pets</td>\n",
              "      <td>PT1300</td>\n",
              "      <td>3.00</td>\n",
              "      <td>1244.0</td>\n",
              "    </tr>\n",
              "    <tr>\n",
              "      <th>3</th>\n",
              "      <td>4</td>\n",
              "      <td>126867.0</td>\n",
              "      <td>6/97/22 00:00:00</td>\n",
              "      <td>Toys</td>\n",
              "      <td>TY4100</td>\n",
              "      <td>1.00</td>\n",
              "      <td>1245.0</td>\n",
              "    </tr>\n",
              "    <tr>\n",
              "      <th>4</th>\n",
              "      <td>5</td>\n",
              "      <td>135872.0</td>\n",
              "      <td>8/97/8 00:00:00</td>\n",
              "      <td>Toys</td>\n",
              "      <td>TY1200</td>\n",
              "      <td>4.00</td>\n",
              "      <td>1246.0</td>\n",
              "    </tr>\n",
              "    <tr>\n",
              "      <th>...</th>\n",
              "      <td>...</td>\n",
              "      <td>...</td>\n",
              "      <td>...</td>\n",
              "      <td>...</td>\n",
              "      <td>...</td>\n",
              "      <td>...</td>\n",
              "      <td>...</td>\n",
              "    </tr>\n",
              "    <tr>\n",
              "      <th>6762</th>\n",
              "      <td>6763</td>\n",
              "      <td>138478.0</td>\n",
              "      <td>11/00/28 00:00:00</td>\n",
              "      <td>Pets</td>\n",
              "      <td>PT1000</td>\n",
              "      <td>1.00</td>\n",
              "      <td>13789000.0</td>\n",
              "    </tr>\n",
              "    <tr>\n",
              "      <th>6763</th>\n",
              "      <td>6764</td>\n",
              "      <td>138478.0</td>\n",
              "      <td>11/00/28 00:00:00</td>\n",
              "      <td>Pets</td>\n",
              "      <td>PT2100</td>\n",
              "      <td>1.00</td>\n",
              "      <td>13789000.0</td>\n",
              "    </tr>\n",
              "    <tr>\n",
              "      <th>6764</th>\n",
              "      <td>6765</td>\n",
              "      <td>138478.0</td>\n",
              "      <td>11/00/28 00:00:00</td>\n",
              "      <td>Pets</td>\n",
              "      <td>PT3300</td>\n",
              "      <td>1.00</td>\n",
              "      <td>13789000.0</td>\n",
              "    </tr>\n",
              "    <tr>\n",
              "      <th>6765</th>\n",
              "      <td>6766</td>\n",
              "      <td>151895.0</td>\n",
              "      <td>2/01/7 00:00:00</td>\n",
              "      <td>Toys</td>\n",
              "      <td>TY4800</td>\n",
              "      <td>4.00</td>\n",
              "      <td>13789000.0</td>\n",
              "    </tr>\n",
              "    <tr>\n",
              "      <th>6766</th>\n",
              "      <td>6767</td>\n",
              "      <td>160208.0</td>\n",
              "      <td>3/01/23 00:00:00</td>\n",
              "      <td>Software</td>\n",
              "      <td>SW8001</td>\n",
              "      <td>1.00</td>\n",
              "      <td>13789000.0</td>\n",
              "    </tr>\n",
              "  </tbody>\n",
              "</table>\n",
              "<p>6767 rows × 7 columns</p>\n",
              "</div>"
            ],
            "text/plain": [
              "        ID       INV               DATE    CATALOG   PCODE   QTY     custnum\n",
              "0        1  107707.0    3/97/7 00:00:00     Sports  SP1000  1.00      1242.0\n",
              "1        2  110633.0   3/97/25 00:00:00  Gardening  GD2200  1.00      1243.0\n",
              "2        3  111155.0   3/97/28 00:00:00       Pets  PT1300  3.00      1244.0\n",
              "3        4  126867.0   6/97/22 00:00:00       Toys  TY4100  1.00      1245.0\n",
              "4        5  135872.0    8/97/8 00:00:00       Toys  TY1200  4.00      1246.0\n",
              "...    ...       ...                ...        ...     ...   ...         ...\n",
              "6762  6763  138478.0  11/00/28 00:00:00       Pets  PT1000  1.00  13789000.0\n",
              "6763  6764  138478.0  11/00/28 00:00:00       Pets  PT2100  1.00  13789000.0\n",
              "6764  6765  138478.0  11/00/28 00:00:00       Pets  PT3300  1.00  13789000.0\n",
              "6765  6766  151895.0    2/01/7 00:00:00       Toys  TY4800  4.00  13789000.0\n",
              "6766  6767  160208.0   3/01/23 00:00:00   Software  SW8001  1.00  13789000.0\n",
              "\n",
              "[6767 rows x 7 columns]"
            ]
          },
          "metadata": {
            "tags": []
          },
          "execution_count": 5
        }
      ]
    },
    {
      "cell_type": "code",
      "metadata": {
        "id": "YOx5iRAFFNVZ",
        "colab_type": "code",
        "colab": {
          "base_uri": "https://localhost:8080/",
          "height": 134
        },
        "outputId": "632f5860-4ee4-4f06-f9a4-6fb9971474b1"
      },
      "source": [
        "for colname in catalog:\n",
        "    if catalog[colname].dtype == 'int64' or catalog[colname].dtype == 'float64':\n",
        "        minval = np.min(catalog[colname])\n",
        "        maxval = np.max(catalog[colname])\n",
        "        varval = np.var(catalog[colname])\n",
        "    else:\n",
        "        minval, maxval = '-', '-'\n",
        "        varval = '-'\n",
        "    print(\"%8s%8s (%7s..%10s)%20s%6d\"%(\n",
        "        colname,\n",
        "        catalog[colname].dtype,\n",
        "        minval, maxval, varval,\n",
        "        len(pd.unique(catalog[colname]))))\n"
      ],
      "execution_count": 30,
      "outputs": [
        {
          "output_type": "stream",
          "text": [
            "      ID   int64 (      1..      6767)           3816024.0  6767\n",
            "     INV float64 (98689.0..  243377.0)  1607111189.5751636  1711\n",
            "    DATE  object (      -..         -)                   -  1019\n",
            " CATALOG  object (      -..         -)                   -    26\n",
            "   PCODE  object (      -..         -)                   -   226\n",
            "     QTY  object (      -..         -)                   -     7\n",
            " custnum float64 (    2.0..13789000.0)  22067986634977.527  3164\n"
          ],
          "name": "stdout"
        }
      ]
    },
    {
      "cell_type": "code",
      "metadata": {
        "id": "ROwqJ-k_FsUX",
        "colab_type": "code",
        "colab": {
          "base_uri": "https://localhost:8080/",
          "height": 334
        },
        "outputId": "87bb5f2f-e14b-47fa-9a8b-a15480f65f93"
      },
      "source": [
        "plt.hist(catalog['INV'])"
      ],
      "execution_count": 37,
      "outputs": [
        {
          "output_type": "execute_result",
          "data": {
            "text/plain": [
              "(array([844., 818., 968., 946., 894., 355., 502., 477., 491., 472.]),\n",
              " array([ 98689. , 113157.8, 127626.6, 142095.4, 156564.2, 171033. ,\n",
              "        185501.8, 199970.6, 214439.4, 228908.2, 243377. ]),\n",
              " <a list of 10 Patch objects>)"
            ]
          },
          "metadata": {
            "tags": []
          },
          "execution_count": 37
        },
        {
          "output_type": "display_data",
          "data": {
            "image/png": "[encoded data removed]",
            "text/plain": [
              "<Figure size 432x288 with 1 Axes>"
            ]
          },
          "metadata": {
            "tags": [],
            "needs_background": "light"
          }
        }
      ]
    },
    {
      "cell_type": "code",
      "metadata": {
        "id": "Z27mklyOGwZM",
        "colab_type": "code",
        "colab": {
          "base_uri": "https://localhost:8080/",
          "height": 101
        },
        "outputId": "e24cfb41-6723-4a67-c1e5-9db4dd808afa"
      },
      "source": [
        "pd.unique(catalog['CATALOG'])"
      ],
      "execution_count": 39,
      "outputs": [
        {
          "output_type": "execute_result",
          "data": {
            "text/plain": [
              "array(['Sports', 'Gardening', 'Pets', 'Toys', 'Software', 'Toy',\n",
              "       'Softwars', 'Colectibles', 'Collectibles', 'Collectible', 'Pest',\n",
              "       'Sporst', ' ,TY4400\"', 'Softwares', 'Gardning', 'Tots', 'Tosy',\n",
              "       'Sport', 'Pet', 'Softwar', 'GARDENING', 'Spots', 'Collectables',\n",
              "       'Prts', 'Pats', nan], dtype=object)"
            ]
          },
          "metadata": {
            "tags": []
          },
          "execution_count": 39
        }
      ]
    },
    {
      "cell_type": "code",
      "metadata": {
        "id": "_IsBGJgNMJO3",
        "colab_type": "code",
        "colab": {}
      },
      "source": [
        ""
      ],
      "execution_count": null,
      "outputs": []
    }
  ]
}